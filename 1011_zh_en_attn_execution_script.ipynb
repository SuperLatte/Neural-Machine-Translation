{
 "cells": [
  {
   "cell_type": "code",
   "execution_count": 2,
   "metadata": {
    "collapsed": false
   },
   "outputs": [],
   "source": [
    "from __future__ import unicode_literals, print_function, division\n",
    "from io import open\n",
    "import unicodedata\n",
    "import string\n",
    "import re\n",
    "import random\n",
    "import numpy as np\n",
    "import torch\n",
    "import torch.nn as nn\n",
    "from torch import optim\n",
    "import torch.nn.functional as F\n",
    "from torch.utils.data import Dataset\n",
    "from torch.autograd import Variable\n",
    "import operator\n",
    "import warnings\n",
    "warnings.filterwarnings('ignore')\n",
    "import os\n",
    "from queue import PriorityQueue\n",
    "import time\n",
    "import math\n",
    "import matplotlib.pyplot as plt\n",
    "%matplotlib inline\n",
    "plt.switch_backend('agg')\n",
    "import matplotlib.ticker as ticker\n",
    "import numpy as np\n",
    "\n",
    "#from sacrebleu import raw_corpus_bleu\n",
    "\n",
    "device = torch.device(\"cuda\" if torch.cuda.is_available() else \"cpu\")"
   ]
  },
  {
   "cell_type": "code",
   "execution_count": 3,
   "metadata": {
    "collapsed": true
   },
   "outputs": [],
   "source": [
    "#Define constants here\n",
    "PAD_TOKEN = 0\n",
    "SOS_TOKEN = 1\n",
    "EOS_TOKEN = 2\n",
    "UNK_TOKEN = 3\n",
    "BATCH_SIZE = 32\n",
    "TEST_BATCH_SIZE = 5\n",
    "MAX_LENGTH = 80\n",
    "words_to_load = 50000\n",
    "emb_size = 300\n",
    "wiki_size = 300\n",
    "CUDA = True\n"
   ]
  },
  {
   "cell_type": "code",
   "execution_count": 4,
   "metadata": {
    "collapsed": false
   },
   "outputs": [
    {
     "data": {
      "text/plain": [
       "'/home/ht1162/anaconda3/'"
      ]
     },
     "execution_count": 4,
     "metadata": {},
     "output_type": "execute_result"
    }
   ],
   "source": [
    "datadir = os.getcwd() + '/'\n",
    "datadir\n"
   ]
  },
  {
   "cell_type": "markdown",
   "metadata": {},
   "source": [
    "### Load pretrained word embeddings:\n",
    "Reference: https://fasttext.cc/docs/en/pretrained-vectors.html\n",
    "\n",
    "@article{bojanowski2017enriching,\n",
    "  title={Enriching Word Vectors with Subword Information},\n",
    "  author={Bojanowski, Piotr and Grave, Edouard and Joulin, Armand and Mikolov, Tomas},\n",
    "  journal={Transactions of the Association for Computational Linguistics},\n",
    "  volume={5},\n",
    "  year={2017},\n",
    "  issn={2307-387X},\n",
    "  pages={135--146}\n",
    "}\n"
   ]
  },
  {
   "cell_type": "code",
   "execution_count": 5,
   "metadata": {
    "collapsed": false
   },
   "outputs": [],
   "source": [
    "#Reference Lab4 HW2\n",
    "# datadir = os.getcwd()\n",
    "words_to_load = 50000\n",
    "with open(datadir + 'wiki-news-300d-1M.vec') as f:\n",
    "    loaded_en_embeddings = np.zeros(((words_to_load+4), wiki_size))\n",
    "    en_word2id = {}\n",
    "    en_id2words = {}\n",
    "    \n",
    "    en_id2words[PAD_TOKEN] = '<PAD>'\n",
    "    en_id2words[SOS_TOKEN] = '<SOS>'\n",
    "    en_id2words[EOS_TOKEN] = '<EOS>'\n",
    "    en_id2words[UNK_TOKEN] = '<UNK>'\n",
    "    \n",
    "    en_word2id['<PAD>'] = PAD_TOKEN\n",
    "    en_word2id['<SOS>'] = SOS_TOKEN\n",
    "    en_word2id['<EOS>'] = EOS_TOKEN\n",
    "    en_word2id['<UNK>'] = UNK_TOKEN\n",
    "    \n",
    "    en_ordered_words= []\n",
    "    en_ordered_words.append('<PAD>')\n",
    "    en_ordered_words.append('<SOS>')\n",
    "    en_ordered_words.append('<EOS>')\n",
    "    en_ordered_words.append('<UNK>')\n",
    "    \n",
    "    for i, line in enumerate(f):\n",
    "        if i >= words_to_load:\n",
    "            break\n",
    "        if i ==0:#Ignore the first line\n",
    "            continue;\n",
    "        s = line.split()\n",
    "        #print(len(s))\n",
    "        loaded_en_embeddings[i+4,:] = np.asarray(s[1:])\n",
    "        en_word2id[s[0]] = i+4 #for extra pad and unk eos and unk\n",
    "        en_id2words[i+4] = s[0]\n",
    "        en_ordered_words.append(s[0])"
   ]
  },
  {
   "cell_type": "code",
   "execution_count": 6,
   "metadata": {
    "collapsed": false
   },
   "outputs": [
    {
     "name": "stdout",
     "output_type": "stream",
     "text": [
      "In total 0 has wrong dimension, hence skipped\n"
     ]
    }
   ],
   "source": [
    "#Reference Lab4 HW2\n",
    "#Over 200000 loaded words, 58 has wrong dimensions\n",
    "#Too slow, swtiched to 50000\n",
    "words_to_load = 50000\n",
    "# datadir = os.getcwd()\n",
    "with open(datadir + 'cc.zh.300.vec') as f:\n",
    "    loaded_zh_embeddings = np.zeros(((words_to_load+4),wiki_size))\n",
    "    zh_word2id = {}\n",
    "    zh_id2words = {}\n",
    "    \n",
    "    zh_id2words[PAD_TOKEN] = '<PAD>'\n",
    "    zh_id2words[SOS_TOKEN] = '<SOS>'\n",
    "    zh_id2words[EOS_TOKEN] = '<EOS>'\n",
    "    zh_id2words[UNK_TOKEN] = '<UNK>'\n",
    "    \n",
    "    zh_word2id['<PAD>'] = PAD_TOKEN\n",
    "    zh_word2id['<SOS>'] = SOS_TOKEN\n",
    "    zh_word2id['<EOS>'] = EOS_TOKEN\n",
    "    zh_word2id['<UNK>'] = UNK_TOKEN\n",
    "    \n",
    "    zh_ordered_words= []\n",
    "    zh_ordered_words.append('<PAD>')\n",
    "    zh_ordered_words.append('<SOS>')\n",
    "    zh_ordered_words.append('<EOS>')\n",
    "    zh_ordered_words.append('<UNK>')\n",
    "    wrong_dim = 0;\n",
    "    for i, line in enumerate(f):\n",
    "        #print(line)\n",
    "        if i >= words_to_load:\n",
    "            break;\n",
    "        if i == 0: #Ignore the first line\n",
    "            continue;\n",
    "        s = line.split()\n",
    "        if len(s) != 301:\n",
    "            wrong_dim += 1#Skip the wrong dimension one\n",
    "            continue;\n",
    "        loaded_zh_embeddings[i+4,:] = np.asarray(s[1:])\n",
    "        zh_word2id[s[0]] = i+4 #for extra pad and unk \n",
    "        zh_id2words[i+4] = s[0]\n",
    "        zh_ordered_words.append(s[0])\n",
    "    print('In total {} has wrong dimension, hence skipped'.format(wrong_dim))"
   ]
  },
  {
   "cell_type": "code",
   "execution_count": 7,
   "metadata": {
    "collapsed": true
   },
   "outputs": [],
   "source": [
    "import pickle as pkl\n",
    "pkl.dump(loaded_zh_embeddings, open(datadir+'zh_embeddings.p', 'wb'))\n",
    "pkl.dump(loaded_en_embeddings, open(datadir+'en_embeddings.p', 'wb'))\n",
    "#pkl.dump(loaded_vi_embeddings, open(datadir+'vi_embeddings.p', 'wb'))"
   ]
  },
  {
   "cell_type": "code",
   "execution_count": 8,
   "metadata": {
    "collapsed": true
   },
   "outputs": [],
   "source": [
    "PAD_TOKEN = 0\n",
    "SOS_TOKEN = 1\n",
    "EOS_TOKEN = 2\n",
    "UNK_TOKEN = 3\n",
    "BATCH_SIZE = 3\n",
    "\n",
    "class Lang:\n",
    "    def __init__(self, name, emb_word2id, emb_id2word, emb_ordered_words):\n",
    "        self.name = name\n",
    "        self.word2index = emb_word2id\n",
    "        self.word2count = {}\n",
    "        self.index2word = emb_id2word #Dict\n",
    "        self.n_words = 4  # Count SOS and EOS +(batch: pad and unk)\n",
    "\n",
    "    def addSentence(self, sentence):\n",
    "        for word in sentence.split(' '):\n",
    "            self.addWord(word)\n",
    "\n",
    "    def addWord(self, word):\n",
    "        if word not in self.word2count:\n",
    "            self.word2count[word] = 1\n",
    "            self.n_words += 1\n",
    "        else:\n",
    "            self.word2count[word] += 1\n",
    "            \n",
    "\n",
    "# Turn a Unicode string to plain ASCII, thanks to\n",
    "# http://stackoverflow.com/a/518232/2809427\n",
    "def unicodeToAscii(s):\n",
    "    return ''.join(\n",
    "        c for c in unicodedata.normalize('NFD', s)\n",
    "        if unicodedata.category(c) != 'Mn'\n",
    "    )\n",
    "\n",
    "#Lowercase, trim, and remove non-letter characters\n",
    "def normalizeString(s, lang):\n",
    "    if lang == \"en\":\n",
    "        s = s.replace(\"apos\", \"\").replace(\"quot\", \"\")\n",
    "    s = unicodeToAscii(s.lower().strip())\n",
    "    s = re.sub(r\"([.!?])\", r\" \\1\", s)\n",
    "    #This line is commented out since it will not properly deal with Chinese Letters\n",
    "#     s = re.sub(r\"[^a-zA-Z.!?]+\", r\" \", s)\n",
    "    s = re.sub(r\"\\s+\", r\" \", s).strip()\n",
    "    return s\n",
    "\n",
    "def asMinutes(s):\n",
    "    m = math.floor(s / 60)\n",
    "    s -= m * 60\n",
    "    return '%dm %ds' % (m, s)\n",
    "\n",
    "\n",
    "def timeSince(since, percent):\n",
    "    now = time.time()\n",
    "    s = now - since\n",
    "    es = s / (percent)\n",
    "    rs = es - s\n",
    "    return '%s (- %s)' % (asMinutes(s), asMinutes(rs))\n",
    "\n",
    "#reference: LAB4 hw2\n",
    "def indexesFromSentences(lang1, lang2, pairs):\n",
    "    id_list1 = []\n",
    "    id_list2 = []\n",
    "    for i in range(len(pairs)):\n",
    "        sentence1 = pairs[i][0]\n",
    "        sentence2 = pairs[i][1]\n",
    "        \n",
    "        sentence1 = sentence1.replace('quot','')\n",
    "        sentence1 = sentence1.replace('apos', '')\n",
    "        sentence2 = sentence2.replace('quot','')\n",
    "        sentence2 = sentence2.replace('apos', '')\n",
    "        #If either sentence is empty, then remove the pair\n",
    "        if sentence1 == '' or sentence2 == '':\n",
    "            continue;\n",
    "        \n",
    "        id_sentence1 = [lang1.word2index[word] if word in lang1.word2index else UNK_TOKEN \n",
    "                        for word in sentence1.split()] + [EOS_TOKEN]\n",
    "        id_list1.append(id_sentence1)\n",
    "        id_sentence2 = [lang2.word2index[word] if word in lang2.word2index else UNK_TOKEN \n",
    "                        for word in sentence2.split()] + [EOS_TOKEN]\n",
    "        id_list2.append(id_sentence2)\n",
    "        \n",
    "   \n",
    "        \n",
    "    return id_list1,id_list2\n",
    "\n",
    "# def sentence2id(sentence_list):\n",
    "#     id_list = []\n",
    "#     for sentence in sentence_list:\n",
    "#         sentence_id_list = [word2id[word] if word in word2id else UNK_IDX for word in sentence]\n",
    "#         id_list.append(sentence_id_list)\n",
    "#     return id_list\n",
    "\n",
    "# def tensorFromSentence(lang, sentence):\n",
    "#     indexes = indexesFromSentence(lang, sentence)\n",
    "#     indexes.append(EOS_TOKEN)\n",
    "#     return torch.tensor(indexes, dtype=torch.long, device=device).view(-1, 1)\n",
    "\n",
    "\n",
    "# def tensorsFromPair(pair):\n",
    "#     input_tensor = tensorFromSentence(input_lang, pair[0])\n",
    "#     target_tensor = tensorFromSentence(output_lang, pair[1])\n",
    "#     return (input_tensor, target_tensor)\n",
    "\n",
    "\n",
    "# def filterPair(p):\n",
    "#     return len(p[0].split(' ')) < MAX_LENGTH and \\\n",
    "#         len(p[1].split(' ')) < MAX_LENGTH and \\\n",
    "#         p[1].startswith(eng_prefixes)\n",
    "\n",
    "\n",
    "# def filterPairs(pairs):\n",
    "#     return [pair for pair in pairs if filterPair(pair)]"
   ]
  },
  {
   "cell_type": "code",
   "execution_count": 9,
   "metadata": {
    "collapsed": true
   },
   "outputs": [],
   "source": [
    "def readLangs(lang1, lang2, category, reverse = False):#category = ['train', 'dev','test]\n",
    "    print('Reading lines:')\n",
    "    lines1 = open(category +'.tok.'+ lang1.name, encoding = 'utf-8').\\\n",
    "    read().strip().split('\\n')\n",
    "    data1 = [normalizeString(l, lang1.name) for l in lines1]\n",
    "    #data1 = list(filter(None, data1)) # fastest\n",
    "\n",
    "    lines2 = open(category + '.tok.' + lang2.name, encoding = 'utf-8').\\\n",
    "    read().strip().split('\\n')\n",
    "    data2 = [normalizeString(l, lang2.name) for l in lines2]\n",
    "    #Given that data2 is english hence we further normalize\n",
    "    data2 = [re.sub(r\"[^a-zA-Z.!?]+\", r\" \", data) for data in data2]\n",
    "    #data2 = list(filter(None, data2)) # fastest\n",
    "\n",
    "    return data1, data2"
   ]
  },
  {
   "cell_type": "code",
   "execution_count": 10,
   "metadata": {
    "collapsed": true
   },
   "outputs": [],
   "source": [
    "#Data Preparation for CHN to ENG\n",
    "def prepareData(lang1, lang2, category, reverse = False):\n",
    "    data1, data2 = readLangs(lang1, lang2, category, reverse)#Read data returns list of sentences\n",
    "    pairs = [[data1[i], data2[i]] for i in range(len(data1))]\n",
    "    print('Read %s sentence pairs' % len(pairs))\n",
    "    #Count the words\n",
    "    print('Counting words')\n",
    "    for i in range(len(pairs)):\n",
    "        lang1.addSentence(data1[i])\n",
    "        lang2.addSentence(data2[i])\n",
    "\n",
    "    print('Counted Words')\n",
    "    print(lang1.name, lang1.n_words)\n",
    "    print(lang2.name, lang2.n_words)\n",
    "\n",
    "    return pairs, data1, data2\n",
    "\n"
   ]
  },
  {
   "cell_type": "code",
   "execution_count": 11,
   "metadata": {
    "collapsed": true
   },
   "outputs": [],
   "source": [
    "#Create language object\n",
    "input_zh = Lang('zh', zh_word2id, zh_id2words, zh_ordered_words)\n",
    "output_zh_en = Lang('en', en_word2id, en_id2words, en_ordered_words)\n",
    "# input_vi = Lang('vi', vi_word2id, vi_id2words, vi_ordered_words)\n",
    "# output_vi_en = Lang('en', en_word2id, en_id2words, en_ordered_words)"
   ]
  },
  {
   "cell_type": "code",
   "execution_count": 12,
   "metadata": {
    "collapsed": false
   },
   "outputs": [
    {
     "name": "stdout",
     "output_type": "stream",
     "text": [
      "Reading lines:\n",
      "Read 213376 sentence pairs\n",
      "Counting words\n",
      "Counted Words\n",
      "zh 88426\n",
      "en 50958\n",
      "Reading lines:\n",
      "Read 1261 sentence pairs\n",
      "Counting words\n",
      "Counted Words\n",
      "zh 88667\n",
      "en 51096\n",
      "Reading lines:\n",
      "Read 1397 sentence pairs\n",
      "Counting words\n",
      "Counted Words\n",
      "zh 88863\n",
      "en 51194\n"
     ]
    }
   ],
   "source": [
    "#Create the string pairs and the string lists\n",
    "train_zh_pairs, zh_train, zh_en_train = prepareData(input_zh, output_zh_en, 'train')\n",
    "val_zh_pairs, zh_val, zh_en_val = prepareData(input_zh, output_zh_en, 'dev')\n",
    "test_zh_pairs, zh_test, zh_en_test = prepareData(input_zh, output_zh_en, 'test')\n",
    "\n",
    "# train_vi_pairs, vi_train, vi_en_train = prepareData(input_vi, output_vi_en, 'train')\n",
    "# val_vi_pairs, vi_val, vi_en_val = prepareData(input_vi, output_vi_en, 'dev')\n",
    "# test_vi_pairs, vi_test, vi_en_test = prepareData(input_vi, output_vi_en, 'test')"
   ]
  },
  {
   "cell_type": "code",
   "execution_count": 27,
   "metadata": {
    "collapsed": false
   },
   "outputs": [
    {
     "data": {
      "text/plain": [
       "['在 恐惧 中 角色 就是 我们 自己', 'in our fears the characters are us .']"
      ]
     },
     "execution_count": 27,
     "metadata": {},
     "output_type": "execute_result"
    }
   ],
   "source": [
    "import random\n",
    "random.choice(train_zh_pairs)"
   ]
  },
  {
   "cell_type": "code",
   "execution_count": 28,
   "metadata": {
    "collapsed": true
   },
   "outputs": [],
   "source": [
    "zh_idx_train, zh_en_idx_train = indexesFromSentences(input_zh, output_zh_en, train_zh_pairs)\n",
    "zh_idx_val, zh_en_idx_val = indexesFromSentences(input_zh, output_zh_en, val_zh_pairs)\n",
    "zh_idx_test, zh_en_idx_test = indexesFromSentences(input_zh, output_zh_en, test_zh_pairs)\n",
    "\n",
    "# vi_idx_train, vi_en_idx_train = indexesFromSentences(input_vi, output_vi_en, train_vi_pairs)\n",
    "# vi_idx_val, vi_en_idx_val = indexesFromSentences(input_vi, output_vi_en, val_vi_pairs)\n",
    "# vi_idx_test, vi_en_idx_test = indexesFromSentences(input_vi, output_vi_en, test_vi_pairs)\n"
   ]
  },
  {
   "cell_type": "code",
   "execution_count": 29,
   "metadata": {
    "collapsed": true
   },
   "outputs": [],
   "source": [
    "zh_train_pairs = [[zh_idx_train[i], zh_en_idx_train[i]] for i in range(len(zh_idx_train))]\n",
    "zh_val_pairs = [[zh_idx_val[i], zh_en_idx_val[i]] for i in range(len(zh_idx_val))]\n",
    "zh_test_pairs= [[zh_idx_test[i], zh_en_idx_test[i]] for i in range(len(zh_idx_test))]\n",
    "# vi_train_pairs = [[vi_idx_train[i], vi_en_idx_train[i]] for i in range(len(vi_idx_train))]\n",
    "# vi_val_pairs = [[vi_idx_val[i], vi_en_idx_val[i]] for i in range(len(vi_idx_val))]\n",
    "# vi_test_pairs = [[vi_idx_test[i], vi_en_idx_test[i]] for i in range(len(vi_idx_test))]\n"
   ]
  },
  {
   "cell_type": "code",
   "execution_count": 30,
   "metadata": {
    "collapsed": false
   },
   "outputs": [
    {
     "data": {
      "text/plain": [
       "213376"
      ]
     },
     "execution_count": 30,
     "metadata": {},
     "output_type": "execute_result"
    }
   ],
   "source": [
    "len(train_zh_pairs)#Should be 213376"
   ]
  },
  {
   "cell_type": "code",
   "execution_count": 31,
   "metadata": {
    "collapsed": true
   },
   "outputs": [],
   "source": [
    "pkl.dump(zh_train_pairs, open('zh_train_pairs.p', 'wb'))\n",
    "pkl.dump(zh_val_pairs, open('zh_val_pairs.p', 'wb'))\n",
    "pkl.dump(zh_test_pairs, open('zh_test_pairs.p', 'wb'))\n",
    "\n",
    "# pkl.dump(vi_train_pairs, open('./data/vi_train_pairs.p', 'wb'))\n",
    "# pkl.dump(vi_val_pairs, open('./data/vi_val_pairs.p', 'wb'))\n",
    "# pkl.dump(vi_test_pairs, open('./data/vi_test_pairs.p', 'wb'))\n"
   ]
  },
  {
   "cell_type": "code",
   "execution_count": 32,
   "metadata": {
    "collapsed": false
   },
   "outputs": [
    {
     "name": "stdout",
     "output_type": "stream",
     "text": [
      "531 502\n"
     ]
    }
   ],
   "source": [
    "max_train_len = 0\n",
    "second_len = 0\n",
    "for pair in zh_train_pairs:\n",
    "    if max_train_len < len(pair[0]):\n",
    "        second_len = max_train_len\n",
    "        max_train_len = len(pair[0])\n",
    "\n",
    "print(max_train_len, second_len)"
   ]
  },
  {
   "cell_type": "code",
   "execution_count": 33,
   "metadata": {
    "collapsed": true
   },
   "outputs": [],
   "source": [
    "#For training data, we have max-len as 80: train: 132789/133316, val: 1267/1268, test: 1552/1553\n",
    "zh_train_pairs_cleaned= []\n",
    "zh_val_pairs_cleaned = []\n",
    "zh_test_pairs_cleaned = []\n",
    "MAX_LENGTH = 80\n",
    "for zh_list in zh_train_pairs:\n",
    "    if len(zh_list[0])<=MAX_LENGTH and len(zh_list[1]) <= MAX_LENGTH:\n",
    "        zh_train_pairs_cleaned.append(zh_list)\n",
    "        \n",
    "for zh_list in zh_val_pairs:\n",
    "    if len(zh_list[0])<=MAX_LENGTH and len(zh_list[1]) <= MAX_LENGTH:\n",
    "        zh_val_pairs_cleaned.append(zh_list)\n",
    "\n",
    "for zh_list in zh_test_pairs:\n",
    "    if len(zh_list[0])<=MAX_LENGTH and len(zh_list[1]) <= MAX_LENGTH:\n",
    "        zh_test_pairs_cleaned.append(zh_list)\n"
   ]
  },
  {
   "cell_type": "code",
   "execution_count": 34,
   "metadata": {
    "collapsed": false
   },
   "outputs": [
    {
     "data": {
      "text/plain": [
       "(212922, 211737)"
      ]
     },
     "execution_count": 34,
     "metadata": {},
     "output_type": "execute_result"
    }
   ],
   "source": [
    "len(zh_train_pairs),len(zh_train_pairs_cleaned)"
   ]
  },
  {
   "cell_type": "code",
   "execution_count": 24,
   "metadata": {
    "collapsed": false
   },
   "outputs": [
    {
     "data": {
      "text/plain": [
       "(1261, 1257)"
      ]
     },
     "execution_count": 24,
     "metadata": {},
     "output_type": "execute_result"
    }
   ],
   "source": [
    "len(zh_val_pairs), len(zh_val_pairs_cleaned)"
   ]
  },
  {
   "cell_type": "code",
   "execution_count": 25,
   "metadata": {
    "collapsed": false
   },
   "outputs": [
    {
     "data": {
      "text/plain": [
       "(1397, 1257)"
      ]
     },
     "execution_count": 25,
     "metadata": {},
     "output_type": "execute_result"
    }
   ],
   "source": [
    "len(zh_test_pairs),len(zh_val_pairs_cleaned)"
   ]
  },
  {
   "cell_type": "code",
   "execution_count": 35,
   "metadata": {
    "collapsed": true
   },
   "outputs": [],
   "source": [
    "# import pickle as pkl\n",
    "pkl.dump(zh_train_pairs_cleaned, open('zh_train_pairs_cleaned.p', 'wb'))\n",
    "pkl.dump(zh_val_pairs_cleaned, open('zh_val_pairs_cleaned.p', 'wb'))\n",
    "pkl.dump(zh_test_pairs_cleaned, open('zh_test_pairs_cleaned.p', 'wb'))\n",
    "\n",
    "# pkl.dump(vi_train_pairs_cleaned, open('./data/vi_train_pairs_cleaned.p', 'wb'))\n",
    "# pkl.dump(vi_val_pairs_cleaned, open('./data/vi_val_pairs_cleaned.p', 'wb'))\n",
    "# pkl.dump(vi_test_pairs_cleaned, open('./data/vi_test_pairs_cleaned.p', 'wb'))\n"
   ]
  },
  {
   "cell_type": "code",
   "execution_count": 26,
   "metadata": {
    "collapsed": true
   },
   "outputs": [],
   "source": [
    "# import pickle as pkl\n",
    "# #loading data\n",
    "# # zh_train_pairs_cleaned = pkl.load(open('./data/zh_train_pairs_cleaned.p', 'rb'))\n",
    "# # zh_val_pairs_cleaned = pkl.load(open('./data/zh_val_pairs_cleaned.p', 'rb'))\n",
    "# # zh_test_pairs_cleaned = pkl.load(open('./data/zh_test_pairs_cleaned.p', 'rb'))\n",
    "\n",
    "# vi_train_pairs_cleaned = pkl.load(open('./data/vi_train_pairs_cleaned.p', 'rb'))\n",
    "# vi_val_pairs_cleaned = pkl.load(open('./data/vi_val_pairs_cleaned.p', 'rb'))\n",
    "# vi_test_pairs_cleaned = pkl.load(open('./data/vi_test_pairs_cleaned.p', 'rb'))"
   ]
  },
  {
   "cell_type": "code",
   "execution_count": 36,
   "metadata": {
    "collapsed": false
   },
   "outputs": [
    {
     "data": {
      "text/plain": [
       "80"
      ]
     },
     "execution_count": 36,
     "metadata": {},
     "output_type": "execute_result"
    }
   ],
   "source": [
    "MAX_LENGTH"
   ]
  },
  {
   "cell_type": "code",
   "execution_count": 37,
   "metadata": {
    "collapsed": true
   },
   "outputs": [],
   "source": [
    "class NMTDataset(Dataset):\n",
    "    def __init__(self, pairs):#Needs the index pairs\n",
    "        self.pairs = pairs\n",
    "#         self.input_lang = input_lang\n",
    "#         self.output_lang = output_lang\n",
    "        self.input_seqs = [pairs[i][0] for i in range(len(self.pairs))]\n",
    "        self.output_seqs = [pairs[i][1] for i in range(len(self.pairs))]\n",
    "\n",
    "    def __len__(self):\n",
    "        return len(self.pairs)#Returning number of pairs\n",
    "    \n",
    "    def __getitem__(self, index):\n",
    "        input_seq = self.input_seqs[index]\n",
    "        output_seq = self.output_seqs[index]\n",
    "        return [input_seq, len(input_seq), output_seq, len(output_seq)]\n",
    "    \n",
    "def vocab_collate_func(batch):\n",
    "    #Reference: lab8_3_mri\n",
    "    def _pad_sequences(seqs):\n",
    "        lens = [len(seq) for seq in seqs]\n",
    "#         padded_seqs = torch.zeros(len(seqs), max(lens)).long()\n",
    "        padded_seqs = torch.zeros(len(seqs), MAX_LENGTH).long()\n",
    "        for i, seq in enumerate(seqs):\n",
    "            end = lens[i]\n",
    "            padded_seqs[i, :end] = torch.LongTensor(seq[:end])\n",
    "        return padded_seqs, lens\n",
    "    \n",
    "    batch_input_seqs = [datum[0] for datum in batch]\n",
    "    batch_output_seqs = [datum[2] for datum in batch]\n",
    "    #batch_input_length = [datum[1] for datum in batch]\n",
    "    #batch_output_length = [datum[3] for datum in batch]\n",
    "\n",
    "    sorted_pairs = sorted(zip(batch_input_seqs, batch_output_seqs), key=lambda x: len(x[0]), reverse = True)\n",
    "    in_seq_sorted, out_seq_sorted = zip(*sorted_pairs)\n",
    "    \n",
    "    padded_input,input_lens = _pad_sequences(in_seq_sorted)\n",
    "    padded_output,output_lens = _pad_sequences(out_seq_sorted)\n",
    "    \n",
    "    input_list = torch.from_numpy(np.array(padded_input))\n",
    "    input_length = torch.LongTensor(input_lens)\n",
    "    output_list = torch.from_numpy(np.array(padded_output))\n",
    "    output_length = torch.LongTensor(output_lens)\n",
    "    \n",
    "    if CUDA:\n",
    "        input_list = input_list.cuda()\n",
    "        output_list = output_list.cuda()\n",
    "        input_length = input_length.cuda()\n",
    "        output_length = output_length.cuda()\n",
    "            \n",
    "    return [input_list, input_length, output_list, output_length]"
   ]
  },
  {
   "cell_type": "code",
   "execution_count": 38,
   "metadata": {
    "collapsed": true
   },
   "outputs": [],
   "source": [
    "BATCH_SIZE = 32\n",
    "'''\n",
    "NMTDataset needs index pairs, need to call indexesFromPairs functions beforehand\n",
    "The dataLoader is sorted according to length of the input_length, and padded to\n",
    "max length of input and output list repectively\n",
    "output_list is not sorted, hence need to sort (maybe) in the rnn sequence.\n",
    "'''\n",
    "# train_zh_dataset = NMTDataset(zh_train_pairs_cleaned, input_zh, output_zh_en)\n",
    "# train_vi_dataset = NMTDataset(vi_train_pairs_cleaned, input_vi, output_vi_en)\n",
    "# val_zh_dataset = NMTDataset(zh_val_pairs_cleaned, input_zh, output_zh_en)\n",
    "# val_vi_dataset = NMTDataset(vi_val_pairs_cleaned, input_vi, output_vi_en)\n",
    "# test_zh_dataset = NMTDataset(zh_test_pairs_cleaned, input_zh, output_zh_en)\n",
    "# test_vi_dataset = NMTDataset(vi_test_pairs_cleaned, input_vi, output_vi_en)\n",
    "\n",
    "train_zh_dataset = NMTDataset(zh_train_pairs_cleaned)\n",
    "#train_vi_dataset = NMTDataset(vi_train_pairs_cleaned)\n",
    "val_zh_dataset = NMTDataset(zh_val_pairs_cleaned)\n",
    "#val_vi_dataset = NMTDataset(vi_val_pairs_cleaned)\n",
    "test_zh_dataset = NMTDataset(zh_test_pairs_cleaned)\n",
    "#test_vi_dataset = NMTDataset(vi_test_pairs_cleaned)\n",
    "\n",
    "\n",
    "train_zh_loader = torch.utils.data.DataLoader(dataset = train_zh_dataset, \n",
    "                                          batch_size = BATCH_SIZE,\n",
    "                                          collate_fn = vocab_collate_func,\n",
    "                                          shuffle = True)\n",
    "\n",
    "# train_vi_loader = torch.utils.data.DataLoader(dataset = train_vi_dataset, \n",
    "#                                           batch_size = BATCH_SIZE,\n",
    "#                                           collate_fn = vocab_collate_func,\n",
    "#                                           shuffle = True)\n",
    "\n",
    "# #Will use batch size 1 for validation and test since the sentence will be translated one by one\n",
    "val_zh_loader = torch.utils.data.DataLoader(dataset = val_zh_dataset, \n",
    "                                          batch_size = 1,\n",
    "                                          collate_fn = vocab_collate_func,\n",
    "                                          shuffle = False)\n",
    "# val_vi_loader = torch.utils.data.DataLoader(dataset = val_vi_dataset, \n",
    "#                                           batch_size = 1,\n",
    "#                                           collate_fn = vocab_collate_func,\n",
    "#                                           shuffle = False)\n",
    "test_zh_loader = torch.utils.data.DataLoader(dataset = test_zh_dataset, \n",
    "                                          batch_size = 1,\n",
    "                                          collate_fn = vocab_collate_func,\n",
    "                                          shuffle = False)\n",
    "# test_vi_loader = torch.utils.data.DataLoader(dataset = test_vi_dataset, \n",
    "#                                           batch_size = 1,\n",
    "#                                           collate_fn = vocab_collate_func,\n",
    "#                                           shuffle = False)\n",
    "#Input_batch in size Batch x maxLen\n"
   ]
  },
  {
   "cell_type": "code",
   "execution_count": 39,
   "metadata": {
    "collapsed": true
   },
   "outputs": [],
   "source": [
    "for i, (input_list, input_length, output_list, output_length) in enumerate(train_zh_loader):\n",
    "    if i== 0:\n",
    "        break"
   ]
  },
  {
   "cell_type": "code",
   "execution_count": 40,
   "metadata": {
    "collapsed": false
   },
   "outputs": [
    {
     "data": {
      "text/plain": [
       "torch.Size([32, 80])"
      ]
     },
     "execution_count": 40,
     "metadata": {},
     "output_type": "execute_result"
    }
   ],
   "source": [
    "input_list.size()"
   ]
  },
  {
   "cell_type": "code",
   "execution_count": 181,
   "metadata": {
    "collapsed": false
   },
   "outputs": [
    {
     "data": {
      "text/plain": [
       "32"
      ]
     },
     "execution_count": 181,
     "metadata": {},
     "output_type": "execute_result"
    }
   ],
   "source": [
    "output_list.size(0)"
   ]
  },
  {
   "cell_type": "code",
   "execution_count": 182,
   "metadata": {
    "collapsed": false
   },
   "outputs": [
    {
     "data": {
      "text/plain": [
       "torch.Size([32, 80])"
      ]
     },
     "execution_count": 182,
     "metadata": {},
     "output_type": "execute_result"
    }
   ],
   "source": [
    "output_list.size()"
   ]
  },
  {
   "cell_type": "markdown",
   "metadata": {},
   "source": [
    "### Batch encoder and decoder"
   ]
  },
  {
   "cell_type": "code",
   "execution_count": 41,
   "metadata": {
    "collapsed": true
   },
   "outputs": [],
   "source": [
    "#Here for the constant definition\n",
    "# MAX_SENTENCE_LENGTH = 10\n",
    "hidden_size = 256\n",
    "\n",
    "TEST_BATCH_SIZE = 3\n",
    "CLIP = 50\n",
    "TEACHER_RATIO = 0.5\n"
   ]
  },
  {
   "cell_type": "code",
   "execution_count": 14,
   "metadata": {
    "collapsed": true
   },
   "outputs": [],
   "source": [
    "import pickle as pkl\n",
    "#loading data\n",
    "loaded_zh_embeddings = pkl.load(open(datadir+'zh_embeddings.p', 'rb'))\n",
    "#loaded_vi_embeddings = pkl.load(open(datadir+'vi_embeddings.p', 'rb'))\n",
    "loaded_en_embeddings = pkl.load(open(datadir+'en_embeddings.p', 'rb'))"
   ]
  },
  {
   "cell_type": "code",
   "execution_count": 45,
   "metadata": {
    "collapsed": false
   },
   "outputs": [],
   "source": [
    "#loaded_zh_embeddings = torch.from_numpy(loaded_zh_embeddings).float()\n",
    "#loaded_vi_embeddings = torch.from_numpy(loaded_vi_embeddings).float()\n",
    "#loaded_en_embeddings = torch.from_numpy(loaded_en_embeddings).float()\n",
    "\n",
    "if CUDA:\n",
    "    loaded_zh_embeddings = loaded_zh_embeddings.cuda()\n",
    "    #loaded_vi_embeddings = loaded_vi_embeddings.cuda()\n",
    "    loaded_en_embeddings = loaded_en_embeddings.cuda()\n"
   ]
  },
  {
   "cell_type": "markdown",
   "metadata": {},
   "source": [
    "### Decoder with Attention"
   ]
  },
  {
   "cell_type": "code",
   "execution_count": 46,
   "metadata": {
    "collapsed": false
   },
   "outputs": [],
   "source": [
    "#Reference Lab8 1-nmt\n",
    "class PreBatchEncoderRNN(nn.Module):\n",
    "    def __init__(self, emb, emb_size, hidden_size , n_layers = 1, dropout_p = 0.1):\n",
    "        super(PreBatchEncoderRNN, self).__init__()\n",
    "        #self.input_size = input_size\n",
    "        self.hidden_size = hidden_size\n",
    "        self.n_layers = n_layers\n",
    "        #self.dropout = nn.Dropout(dropout_p)\n",
    "        self.embedding = nn.Embedding.from_pretrained(emb, True)\n",
    "        self.gru = nn.GRU(emb_size, hidden_size, bidirectional = True, batch_first = True)\n",
    "\n",
    "    def forward(self, input_list, input_length, hidden):\n",
    "        self.batch_size = input_list.size(0)\n",
    "        embedded = self.embedding(input_list)#Batch x seq x emb_size=300\n",
    "        #Input length sorted by loader\n",
    "        packed = torch.nn.utils.rnn.pack_padded_sequence(embedded, input_length,  batch_first = True)\n",
    "        outputs, hidden = self.gru(packed, hidden)\n",
    "        outputs, _ = torch.nn.utils.rnn.pad_packed_sequence(outputs, batch_first = True, total_length = MAX_LENGTH)\n",
    "        outputs = outputs[:, :, :self.hidden_size] + outputs[:, : ,self.hidden_size:] # Sum bidirectional outputs\n",
    "        \n",
    "        #outputs B x L x H\n",
    "        #hidden size (2*n_layers) x B x H\n",
    "        return outputs, hidden\n",
    "\n",
    "    def initHidden(self, batch_size):\n",
    "        return torch.zeros(2*self.n_layers, batch_size, self.hidden_size, device=device)"
   ]
  },
  {
   "cell_type": "code",
   "execution_count": 47,
   "metadata": {
    "collapsed": false
   },
   "outputs": [
    {
     "data": {
      "text/plain": [
       "(torch.Size([32, 80, 256]), torch.Size([2, 32, 256]))"
      ]
     },
     "execution_count": 47,
     "metadata": {},
     "output_type": "execute_result"
    }
   ],
   "source": [
    "encoder = PreBatchEncoderRNN(loaded_zh_embeddings, emb_size, hidden_size).to(device)\n",
    "hidden = encoder.initHidden(BATCH_SIZE)\n",
    "encoder_outputs, encoder_hidden = encoder(input_list, input_length, hidden)\n",
    "encoder_outputs.size(), encoder_hidden.size()"
   ]
  },
  {
   "cell_type": "code",
   "execution_count": 48,
   "metadata": {
    "collapsed": true
   },
   "outputs": [],
   "source": [
    "#Reference https://pytorch.org/tutorials/intermediate/seq2seq_translation_tutorial.html\n",
    "class PreBatchAttnDecoderRNN(nn.Module):\n",
    "    def __init__(self, emb, emb_size, hidden_size, output_size, n_layers = 1, dropout_p=0.1, max_length=MAX_LENGTH):\n",
    "        super(PreBatchAttnDecoderRNN, self).__init__()\n",
    "        \n",
    "        self.emb = emb\n",
    "        self.emb_size = emb_size\n",
    "        self.hidden_size = hidden_size\n",
    "        self.output_size = output_size\n",
    "        self.n_layers = n_layers\n",
    "        self.dropout_p = dropout_p\n",
    "        self.max_length = max_length\n",
    "        \n",
    "        #self.attn = nn.Linear(hidden_size*2, hidden_size)\n",
    "        #self.attn2 = nn.Linear(hidden_size, hidden_size)\n",
    "        #self.v = nn.Parameter(torch.rand(hidden_size))\n",
    "        self.embedding = nn.Embedding.from_pretrained(self.emb, False)\n",
    "        self.attn = nn.Linear(emb_size + hidden_size, self.max_length)\n",
    "        self.attn_combine = nn.Linear(emb_size + hidden_size, self.hidden_size)\n",
    "        self.dropout = nn.Dropout(self.dropout_p)\n",
    "\n",
    "        self.gru = nn.GRU(self.hidden_size, self.hidden_size, batch_first = False)\n",
    "        self.out = nn.Linear(self.hidden_size, self.output_size)\n",
    "    \n",
    "    def forward(self, decoder_input, hidden, encoder_outputs):\n",
    "        self.batch_size = encoder_outputs.size(0)\n",
    "        embedded = self.embedding(decoder_input).view(1, self.batch_size, -1)\n",
    "        embedded = self.dropout(embedded)\n",
    "\n",
    "        concat_input = torch.cat((embedded, hidden), 2)\n",
    "        attn_weights = F.softmax(self.attn(concat_input), dim=2)\n",
    "        attn_energies = torch.bmm(attn_weights.squeeze(0).unsqueeze(1), encoder_outputs).squeeze(1)#Batch x H\n",
    "\n",
    "        output = torch.cat((embedded.squeeze(0), attn_energies), 1)\n",
    "        output = self.attn_combine(output).unsqueeze(0)\n",
    "\n",
    "        output = F.relu(output)\n",
    "        rnn_output, hidden = self.gru(output, hidden)\n",
    "\n",
    "        output = F.log_softmax(self.out(rnn_output.squeeze(0)),dim=1)\n",
    "        #Size: output b x V, hidden 1 x b x h, attn 1 x b x max_length\n",
    "        return output, hidden, attn_weights\n",
    "    \n",
    "#     def initHidden(self, batch_size):\n",
    "#         return torch.zeros(1, batch_size, self.hidden_size, device=device)"
   ]
  },
  {
   "cell_type": "code",
   "execution_count": null,
   "metadata": {
    "collapsed": true
   },
   "outputs": [],
   "source": []
  },
  {
   "cell_type": "code",
   "execution_count": 54,
   "metadata": {
    "collapsed": false
   },
   "outputs": [
    {
     "data": {
      "text/plain": [
       "(torch.Size([32, 50003]), torch.Size([1, 32, 256]), torch.Size([1, 32, 80]))"
      ]
     },
     "execution_count": 54,
     "metadata": {},
     "output_type": "execute_result"
    }
   ],
   "source": [
    "decoder_input = torch.tensor([SOS_TOKEN] * BATCH_SIZE).to(device)\n",
    "last_hidden = encoder_hidden[:1]\n",
    "test_decoder = PreBatchAttnDecoderRNN(loaded_zh_embeddings, emb_size,hidden_size, len(zh_ordered_words)).to(device)\n",
    "decoder_output, decoder_hidden, attn_weights = test_decoder(decoder_input, last_hidden, encoder_outputs)\n",
    "decoder_output.size(), decoder_hidden.size(), attn_weights.size()"
   ]
  },
  {
   "cell_type": "code",
   "execution_count": 55,
   "metadata": {
    "collapsed": false
   },
   "outputs": [],
   "source": [
    "hidden_size = 256\n",
    "test_encoder = PreBatchEncoderRNN(loaded_zh_embeddings, emb_size, hidden_size).to(device)\n",
    "test_decoder = PreBatchAttnDecoderRNN(loaded_zh_embeddings, emb_size,hidden_size, len(zh_ordered_words)).to(device)\n",
    "\n",
    "#decoder_test = AttnDecoderRNN(hidden_size, len(vi_ordered_words)).to(device)\n",
    "criterion = nn.NLLLoss()\n",
    "\n",
    "for i, (input_list,input_length,output_list, output_length) in enumerate(train_zh_loader):\n",
    "    batch_size, max_input_length = input_list.size()\n",
    "    max_output_length = output_list.size(1)\n",
    "            \n",
    "    encoder_hidden = encoder.initHidden(batch_size)\n",
    "    encoder_outputs, encoder_hidden = test_encoder(input_list, input_length, encoder_hidden)\n",
    "#     encoder_output, encoder_hidden = batch_encoder(input_list, input_length, encoder_hidden)\n",
    "    \n",
    "    decoder_input = torch.tensor(np.array([[SOS_TOKEN]] * batch_size), device=device)\n",
    "#     decoder_input = torch.tensor([[SOS_TOKEN]]*batch_size, device=device)\n",
    "    decoder_hidden = encoder_hidden[:test_decoder.n_layers]\n",
    "\n",
    "    loss = 0\n",
    "    for di in range(max_output_length):\n",
    "\n",
    "        decoder_output, decoder_hidden, decoder_attention = test_decoder(\n",
    "            decoder_input, decoder_hidden, encoder_outputs)\n",
    "\n",
    "\n",
    "        loss += criterion(decoder_output, output_list[:,di])\n",
    "        decoder_input = output_list[:,di].unsqueeze(0) \n",
    "    loss.backward()\n",
    "    \n",
    "    break"
   ]
  },
  {
   "cell_type": "markdown",
   "metadata": {},
   "source": [
    "### Training"
   ]
  },
  {
   "cell_type": "code",
   "execution_count": 56,
   "metadata": {
    "collapsed": true
   },
   "outputs": [],
   "source": [
    "#Referenced from lab8 1nmt and modified \n",
    "teacher_forcing_ratio = 0.5\n",
    "def attn_batch_train(input_list, input_length, output_list,output_length, \n",
    "                batch_encoder, batch_decoder, encoder_optimizer, decoder_optimizer, criterion):\n",
    "    '''\n",
    "    param: @attention is a Boolean variable indicating whether using attention\n",
    "    '''\n",
    "    batch_encoder.train()\n",
    "    batch_decoder.train()\n",
    "    \n",
    "    encoder_optimizer.zero_grad()\n",
    "    decoder_optimizer.zero_grad()\n",
    "    batch_size, max_input_length = input_list.size()\n",
    "    max_output_length = output_list.size(1)\n",
    "        \n",
    "    loss = 0\n",
    "    \n",
    "    encoder_hidden = batch_encoder.initHidden(batch_size)\n",
    "\n",
    "    encoder_outputs, encoder_hidden = batch_encoder(input_list, input_length, encoder_hidden)\n",
    "\n",
    "    #Initialize for decoding process\n",
    "    #curr_batch = input_list.size(0)#Take the current batch size\n",
    "    decoder_input = torch.tensor(np.array([[SOS_TOKEN]] * batch_size), device=device)\n",
    "    \n",
    "    decoder_hidden = encoder_hidden[:batch_decoder.n_layers]#Bidirectional summoned\n",
    "    #decoder_hidden = encoder_hidden\n",
    "    \n",
    "    use_teacher_forcing = True if random.random() < teacher_forcing_ratio else False\n",
    "    \n",
    "    if use_teacher_forcing:\n",
    "        for di in range(max_output_length):\n",
    "            decoder_output, decoder_hidden, decoder_attention = batch_decoder(\n",
    "                decoder_input, decoder_hidden, encoder_outputs)\n",
    "            decoder_input = output_list[:,di].unsqueeze(0)\n",
    "            loss += criterion(decoder_output, output_list[:,di])\n",
    "\n",
    "    else:\n",
    "        for di in range(max_output_length):\n",
    "            decoder_output, decoder_hidden, decoder_attention = batch_decoder(\n",
    "                decoder_input, decoder_hidden, encoder_outputs)\n",
    "            \n",
    "            topv, topi = decoder_output.topk(1)\n",
    "            decoder_input = topi.squeeze().detach().unsqueeze(0)\n",
    "            loss += criterion(decoder_output, output_list[:,di])\n",
    "            \n",
    "    loss.backward()\n",
    "\n",
    "    encoder_optimizer.step()\n",
    "    decoder_optimizer.step()\n",
    "\n",
    "    return loss.item()/MAX_LENGTH"
   ]
  },
  {
   "cell_type": "code",
   "execution_count": 57,
   "metadata": {
    "collapsed": false
   },
   "outputs": [],
   "source": [
    "hidden_size = 256\n",
    "learning_rate = 0.01\n",
    "\n",
    "encoder = PreBatchEncoderRNN(loaded_zh_embeddings, emb_size, hidden_size).to(device)\n",
    "decoder = PreBatchAttnDecoderRNN(loaded_zh_embeddings, emb_size,hidden_size, len(zh_ordered_words)).to(device)\n",
    "\n",
    "encoder_optimizer = optim.Adam(encoder.parameters(), lr=learning_rate)\n",
    "decoder_optimizer = optim.Adam(decoder.parameters(), lr=learning_rate)\n",
    "criterion = nn.NLLLoss()\n",
    "\n",
    "for i, (input_list,input_length,output_list, output_length) in enumerate(train_zh_loader):\n",
    "    loss = attn_batch_train(input_list, input_length, output_list, output_length, encoder,\n",
    "                         decoder, encoder_optimizer, decoder_optimizer, criterion)\n",
    "    break"
   ]
  },
  {
   "cell_type": "code",
   "execution_count": 58,
   "metadata": {
    "collapsed": false
   },
   "outputs": [
    {
     "data": {
      "text/plain": [
       "10.804374694824219"
      ]
     },
     "execution_count": 58,
     "metadata": {},
     "output_type": "execute_result"
    }
   ],
   "source": [
    "loss"
   ]
  },
  {
   "cell_type": "code",
   "execution_count": 32,
   "metadata": {
    "collapsed": true
   },
   "outputs": [],
   "source": [
    "# #Referenced from lab8 1nmt and modified \n",
    "# teacher_forcing_ratio = 0.5\n",
    "# def attn_batch_train(input_list, input_length, output_list,output_length, \n",
    "#                 batch_encoder, batch_decoder, encoder_optimizer, decoder_optimizer, criterion):\n",
    "#     '''\n",
    "#     param: @attention is a Boolean variable indicating whether using attention\n",
    "#     '''\n",
    "#     batch_encoder.train()\n",
    "#     batch_decoder.train()\n",
    "    \n",
    "#     encoder_optimizer.zero_grad()\n",
    "#     decoder_optimizer.zero_grad()\n",
    "#     max_output_length = output_length.max().item()\n",
    "    \n",
    "#     batch_size = input_list.size(0)\n",
    "    \n",
    "#     loss = 0\n",
    "    \n",
    "#     encoder_hidden = batch_encoder.initHidden(batch_size)\n",
    "\n",
    "#     encoder_outputs, encoder_hidden = batch_encoder(input_list, input_length, encoder_hidden)\n",
    "\n",
    "#     #Initialize for decoding process\n",
    "#     curr_batch = input_list.size(0)#Take the current batch size\n",
    "#     decoder_input = torch.tensor([[SOS_TOKEN]]*curr_batch, device=device)\n",
    "    \n",
    "#     decoder_hidden = encoder_hidden[:batch_decoder.n_layers]#Bidirectional summoned\n",
    "# #     decoder_outputs = torch.zeros(max_output_length, curr_batch, batch_decoder.output_size)\n",
    "    \n",
    "#     # Move new Variables to CUDA\n",
    "#     if CUDA:\n",
    "#         decoder_input = decoder_input.cuda()\n",
    "# #         decoder_outputs = decoder_outputs.cuda()\n",
    "    \n",
    "#     use_teacher_forcing = True if random.random() < teacher_forcing_ratio else False\n",
    "# #     use_teacher_forcing = True\n",
    "    \n",
    "#     if use_teacher_forcing:\n",
    "#     # Teacher forcing: Feed the target as the next input\n",
    "#         for di in range(max_output_length):\n",
    "#             decoder_output, decoder_hidden, decoder_attention = batch_decoder(\n",
    "#                 decoder_input, decoder_hidden, encoder_outputs)\n",
    "# #             decoder_outputs[di] = decoder_output\n",
    "#             decoder_input = output_list[:,di] # Teacher forcing\n",
    "#             loss += criterion(decoder_output, output_list[:,di])\n",
    "\n",
    "#     else:\n",
    "#     # Without teacher forcing: use its own predictions as the next input\n",
    "#         for di in range(max_output_length):\n",
    "#             decoder_output, decoder_hidden, decoder_attention = batch_decoder(\n",
    "#                 decoder_input, decoder_hidden, encoder_outputs)\n",
    "            \n",
    "# #             decoder_outputs[di] = decoder_input\n",
    "#             topv, topi = decoder_output.topk(1)\n",
    "#             decoder_input = topi.squeeze().detach()# detach from history as input: size batch x 1 \n",
    "#             loss += criterion(decoder_output, output_list[:,di])\n",
    "            \n",
    "# #     loss += rnn_mask_loss(decoder_outputs.transpose(0,1).contiguous(), output_list.contiguous(), output_length)\n",
    "            \n",
    "#     loss.backward()\n",
    "#     ec = torch.nn.utils.clip_grad_norm(batch_encoder.parameters(), CLIP)\n",
    "#     dc = torch.nn.utils.clip_grad_norm(batch_decoder.parameters(), CLIP)\n",
    "\n",
    "#     encoder_optimizer.step()\n",
    "#     decoder_optimizer.step()\n",
    "\n",
    "#     return loss.item()"
   ]
  },
  {
   "cell_type": "code",
   "execution_count": 27,
   "metadata": {
    "collapsed": true
   },
   "outputs": [],
   "source": [
    "# learning_rate = 0.01\n",
    "# encoder_optimizer = optim.SGD(pre_encoder.parameters(), lr=learning_rate)\n",
    "# decoder_optimizer = optim.SGD(pre_decoder.parameters(), lr=learning_rate)\n",
    "# criterion = nn.CrossEntropyLoss()\n",
    "\n",
    "\n",
    "# pre_encoder = PreBatchEncoderRNN(loaded_zh_embeddings, emb_size, hidden_size, BATCH_SIZE)\n",
    "# pre_decoder = PreDecoderRNN(loaded_en_embeddings, emb_size, hidden_size, len(en_ordered_words), BATCH_SIZE)\n",
    "# encoder_outputs, encoder_hidden = pre_encoder(input_list, input_length)\n",
    "# decoder_input = torch.tensor([[SOS_TOKEN]]*BATCH_SIZE)\n",
    "# decoder_hidden = encoder_hidden[:no_attn_decoder.n_layers]\n",
    "# max_output_length = output_length.max().item()\n",
    "# decoder_outputs = torch.zeros(max_output_length, curr_batch, pre_decoder.output_size)\n",
    "# loss = 0\n",
    "# for di in range(max_output_length):\n",
    "#     #print(di)\n",
    "#     decoder_output, decoder_hidden = pre_decoder(\n",
    "#         decoder_input, decoder_hidden)\n",
    "#     decoder_outputs[di] = decoder_output\n",
    "#     decoder_input = output_list[:,di] # Teacher forcing\n",
    "#     loss += criterion(decoder_output, output_list[:,di])\n",
    "# print(loss.item()/max_output_length)"
   ]
  },
  {
   "cell_type": "code",
   "execution_count": 28,
   "metadata": {
    "collapsed": true
   },
   "outputs": [],
   "source": [
    "# pre_encoder = PreBatchEncoderRNN(loaded_zh_embeddings, emb_size, hidden_size, BATCH_SIZE).to(device)\n",
    "# attn_decoder = PreAttnDecoderRNN(loaded_en_embeddings, emb_size, hidden_size, len(en_ordered_words), BATCH_SIZE)\n",
    "\n",
    "\n",
    "# learning_rate = 0.01\n",
    "# encoder_optimizer = optim.SGD(pre_encoder.parameters(), lr=learning_rate)\n",
    "# decoder_optimizer = optim.SGD(attn_decoder.parameters(), lr=learning_rate)\n",
    "# criterion = nn.CrossEntropyLoss()\n",
    "\n",
    "\n",
    "# encoder_outputs, encoder_hidden = pre_encoder(input_list, input_length)\n",
    "# decoder_input = torch.tensor([[SOS_TOKEN]]*BATCH_SIZE)\n",
    "# decoder_hidden = encoder_hidden[:attn_decoder.n_layers]\n",
    "# max_output_length = output_length.max().item()\n",
    "# decoder_outputs = torch.zeros(max_output_length, curr_batch, attn_decoder.output_size)\n",
    "# loss = 0\n",
    "# for di in range(max_output_length):\n",
    "#     #print(di)\n",
    "#     decoder_output, decoder_hidden, attn_weights = attn_decoder(\n",
    "#         decoder_input, decoder_hidden, encoder_outputs)\n",
    "#     decoder_outputs[di] = decoder_output\n",
    "#     decoder_input = output_list[:,di] # Teacher forcing\n",
    "#     loss += criterion(decoder_output, output_list[:,di])\n",
    "# print(loss.item()/max_output_length)"
   ]
  },
  {
   "cell_type": "code",
   "execution_count": 29,
   "metadata": {
    "collapsed": true
   },
   "outputs": [],
   "source": [
    "# pre_encoder = PreBatchEncoderRNN(loaded_zh_embeddings, emb_size, hidden_size, BATCH_SIZE).to(device)\n",
    "# pre_decoder = PreDecoderRNN(loaded_en_embeddings, emb_size, hidden_size, len(en_ordered_words), BATCH_SIZE)\n",
    "\n",
    "\n",
    "# learning_rate = 0.01\n",
    "# encoder_optimizer = optim.SGD(pre_encoder.parameters(), lr=learning_rate)\n",
    "# decoder_optimizer = optim.SGD(pre_decoder.parameters(), lr=learning_rate)\n",
    "# criterion = nn.CrossEntropyLoss()\n",
    "\n",
    "# loss = no_attn_batch_train(input_list, input_length, output_list, output_length, \n",
    "#                        pre_encoder, pre_decoder, encoder_optimizer, decoder_optimizer, \n",
    "#                        criterion)\n",
    "\n",
    "# print(loss)\n",
    "\n"
   ]
  },
  {
   "cell_type": "code",
   "execution_count": 30,
   "metadata": {
    "collapsed": true
   },
   "outputs": [],
   "source": [
    "# pre_encoder = PreBatchEncoderRNN(loaded_zh_embeddings, emb_size, hidden_size, BATCH_SIZE).to(device)\n",
    "# attn_decoder = PreAttnDecoderRNN(loaded_en_embeddings, emb_size, hidden_size, len(en_ordered_words), BATCH_SIZE)\n",
    "\n",
    "\n",
    "# learning_rate = 0.01\n",
    "# encoder_optimizer = optim.SGD(pre_encoder.parameters(), lr=learning_rate)\n",
    "# decoder_optimizer = optim.SGD(attn_decoder.parameters(), lr=learning_rate)\n",
    "# criterion = nn.CrossEntropyLoss()\n",
    "\n",
    "# loss = attn_batch_train(input_list, input_length, output_list, output_length, \n",
    "#                        pre_encoder, attn_decoder, encoder_optimizer, decoder_optimizer, \n",
    "#                        criterion)\n",
    "\n",
    "# print(loss)\n",
    "\n"
   ]
  },
  {
   "cell_type": "code",
   "execution_count": 31,
   "metadata": {
    "collapsed": true
   },
   "outputs": [],
   "source": [
    "# pre_encoder = PreBatchEncoderRNN(loaded_zh_embeddings, emb_size, hidden_size, BATCH_SIZE).to(device)\n",
    "# pre_decoder = PreDecoderRNN(loaded_en_embeddings, emb_size, hidden_size, len(en_ordered_words), BATCH_SIZE).to(device)\n",
    "\n",
    "\n",
    "# learning_rate = 0.01\n",
    "# encoder_optimizer = optim.SGD(pre_encoder.parameters(), lr=learning_rate)\n",
    "# decoder_optimizer = optim.SGD(pre_decoder.parameters(), lr=learning_rate)\n",
    "# criterion = nn.CrossEntropyLoss()\n",
    "\n",
    "# train_loss = []\n",
    "# for i in range(2000):\n",
    "#     loss = no_attn_batch_train(input_list, input_length, output_list, output_length, \n",
    "#                        pre_encoder, pre_decoder, encoder_optimizer, decoder_optimizer, \n",
    "#                        criterion)\n",
    "#     train_loss.append(loss)\n",
    "\n",
    "# fig, ax = plt.subplots(figsize = (12,10))\n",
    "# ax.plot(train_loss_list)\n"
   ]
  },
  {
   "cell_type": "code",
   "execution_count": 32,
   "metadata": {
    "collapsed": true
   },
   "outputs": [],
   "source": [
    "# pre_encoder = PreBatchEncoderRNN(loaded_zh_embeddings, emb_size, hidden_size, BATCH_SIZE).to(device)\n",
    "# attn_decoder = PreAttnDecoderRNN(loaded_en_embeddings, emb_size, hidden_size, len(en_ordered_words), BATCH_SIZE).to(device)\n",
    "\n",
    "# learning_rate = 0.01\n",
    "# encoder_optimizer = optim.Adam(pre_encoder.parameters(), lr=learning_rate)\n",
    "# decoder_optimizer = optim.Adam(attn_decoder.parameters(), lr=learning_rate)\n",
    "# criterion = nn.CrossEntropyLoss()\n",
    "\n",
    "# train_loss = []\n",
    "# for i in range(2000):\n",
    "#     loss = attn_batch_train(input_list, input_length, output_list, output_length, \n",
    "#                        pre_encoder, attn_decoder, encoder_optimizer, decoder_optimizer, \n",
    "#                        criterion)\n",
    "#     train_loss.append(loss)\n",
    "\n",
    "\n",
    "# fig, ax = plt.subplots(figsize = (12,10))\n",
    "# ax.plot(train_loss_list)\n"
   ]
  },
  {
   "cell_type": "code",
   "execution_count": 33,
   "metadata": {
    "collapsed": true
   },
   "outputs": [],
   "source": [
    "# attn_weights.size()"
   ]
  },
  {
   "cell_type": "code",
   "execution_count": 59,
   "metadata": {
    "collapsed": true
   },
   "outputs": [],
   "source": [
    "#Reference lab8 1-nmt\n",
    "def greedy_attn_evaluate(val_loader, encoder, decoder, en_id2words ):\n",
    "    #Will generate sentences 1 by 1. \n",
    "    \"\"\"\n",
    "    Function that generate translation.\n",
    "    First, feed the source sentence into the encoder and obtain the hidden states from encoder.\n",
    "    Secondly, feed the hidden states into the decoder and unfold the outputs from the decoder.\n",
    "    Lastly, for each outputs from the decoder, collect the corresponding words in the target language's vocabulary.\n",
    "    And collect the attention for each output words.\n",
    "    @param encoder: the encoder network\n",
    "    @param decoder: the decoder network\n",
    "    @param sentence: string, a sentence in source language to be translated\n",
    "    @param max_length: the max # of words that the decoder can return\n",
    "    @output decoded_words: a list of words in target language\n",
    "    @output decoder_attentions: a list of vector, each of which sums up to 1.0\n",
    "    \"\"\"    \n",
    "    # process input sentence\n",
    "    decoded_words_all = []\n",
    "    decoder_attentions_all = []\n",
    "    \n",
    "    with torch.no_grad():\n",
    "        encoder.eval()\n",
    "        decoder.eval()\n",
    "        \n",
    "        for i, (input_list, input_length, output_list, output_length) in enumerate(val_loader):\n",
    "            if i %100 == 0:\n",
    "                print(\"%d/%d\"%(i,len(val_loader)))\n",
    "                \n",
    "            batch_size, max_input_length = input_list.size()\n",
    "            max_output_length = output_list.size(1)\n",
    "            \n",
    "            #    break\n",
    "            #batch_size, max_len = output_list.size()\n",
    "#             print(input_list.size())\n",
    "            \n",
    "            encoder_hidden = encoder.initHidden(batch_size)\n",
    "            encoder_outputs, encoder_hidden = encoder(input_list, input_length, encoder_hidden)\n",
    "\n",
    "            decoder_input = torch.tensor(np.array([[SOS_TOKEN]] * batch_size), device=device)#SOS\n",
    "            # decode the context vector\n",
    "            decoder_hidden = encoder_hidden[:decoder.n_layers] # decoder starts from the last encoding sentence\n",
    "            # output of this function\n",
    "            \n",
    "            decoded_words = []\n",
    "            decoder_attentions = torch.zeros(MAX_LENGTH, MAX_LENGTH)\n",
    "\n",
    "            for di in range(MAX_LENGTH):\n",
    "                # for each time step, the decoder network takes two inputs: previous outputs and the previous hidden states\n",
    "                decoder_output, decoder_hidden, decoder_attention = decoder(\n",
    "                    decoder_input, decoder_hidden, encoder_outputs)\n",
    "\n",
    "                top_score, topi = decoder_output.data.topk(1)\n",
    "                decoder_attentions[di, :decoder_attention.size(-1)] = decoder_attention\n",
    "                decoded_words.append(en_id2words[topi.item()])\n",
    "                if topi.item() == EOS_TOKEN:\n",
    "                    break\n",
    "                else:\n",
    "                    decoder_input = topi.squeeze().detach()\n",
    "                    \n",
    "            decoded_words_all.append(decoded_words)\n",
    "            decoder_attentions_all.append(decoder_attentions[:di+1])\n",
    "\n",
    "        return decoded_words_all, decoder_attentions_all"
   ]
  },
  {
   "cell_type": "code",
   "execution_count": 35,
   "metadata": {
    "collapsed": true
   },
   "outputs": [],
   "source": [
    "# decoded_words_all, decoder_attention_all = greedy_attn_evaluate(val_zh_loader, pre_encoder, attn_decoder, en_id2words)"
   ]
  },
  {
   "cell_type": "code",
   "execution_count": 98,
   "metadata": {
    "collapsed": false
   },
   "outputs": [],
   "source": [
    "def post_process(decoded_words_all):\n",
    "    cleaned_decoded_words_all = []\n",
    "    \n",
    "    for sentence in decoded_words_all:\n",
    "        cleaned_sentence = []\n",
    "        for word in sentence:\n",
    "            if word == '<PAD>':\n",
    "                continue\n",
    "            else:\n",
    "                cleaned_sentence.append(word)\n",
    "        if cleaned_sentence[-1] != '<EOS>':\n",
    "            cleaned_sentence.append(' <EOS>')\n",
    "            \n",
    "        cleaned_decoded_words_all.append(cleaned_sentence)\n",
    "        \n",
    "    return cleaned_decoded_words_all\n",
    "\n",
    "#Translate the test and val lists back to english\n",
    "def en_translate(index_list, en_id2words):\n",
    "    translated_sentence_list = []\n",
    "    for sentence in index_list:\n",
    "        translated_sentence = []\n",
    "        for index in sentence:\n",
    "            translated_sentence.append(en_id2words[index])\n",
    "        #translated_sentence.append('<EOS>')\n",
    "        translated_sentence_list.append(translated_sentence)\n",
    "    return translated_sentence_list\n",
    "\n",
    "def zh_translate(index_list, zh_id2words):\n",
    "    translated_sentence_list = []\n",
    "    for sentence in index_list:\n",
    "        translated_sentence = []\n",
    "        for index in sentence:\n",
    "            translated_sentence.append(zh_id2words[index])\n",
    "        #translated_sentence.append('<EOS>')\n",
    "        translated_sentence_list.append(translated_sentence)\n",
    "    return translated_sentence_list\n",
    "\n",
    "def concatenate_tokens(token_lists):\n",
    "    sentence_list = []\n",
    "    for token_list in token_lists:\n",
    "        sentence = ''\n",
    "        for token in token_list:\n",
    "            sentence = sentence+' '+token\n",
    "        sentece_list.append(sentence)\n",
    "    return sentence_list\n",
    "        \n",
    "def bleu_score(pred_list, target_list):\n",
    "    pred_sentence_list = concatenate_tokens(pred_list)\n",
    "    target_sentence_list = concatenate_tokens(target_list)\n",
    "    print('bleu score for test dataset:', corpus_bleu(pred_sentence_list, [target_sentence_list]).score)\n",
    "    print('bleu score for test dataset [raw]:', raw_corpus_bleu(pred_sentence_list, [target_sentence_list]).score)"
   ]
  },
  {
   "cell_type": "code",
   "execution_count": 116,
   "metadata": {
    "collapsed": true
   },
   "outputs": [],
   "source": [
    "# decoded_words_list = post_process(decoded_words_all)"
   ]
  },
  {
   "cell_type": "code",
   "execution_count": 117,
   "metadata": {
    "collapsed": true
   },
   "outputs": [],
   "source": [
    "# decoded_words_list[0]"
   ]
  },
  {
   "cell_type": "code",
   "execution_count": 117,
   "metadata": {
    "collapsed": false
   },
   "outputs": [
    {
     "data": {
      "text/plain": [
       "['你好',\n",
       " '我',\n",
       " '是',\n",
       " '凯文',\n",
       " '<UNK>',\n",
       " '卡',\n",
       " '我',\n",
       " '是',\n",
       " 'youtube',\n",
       " '的',\n",
       " '趋势',\n",
       " '分析',\n",
       " '经理',\n",
       " '而',\n",
       " '我',\n",
       " '的',\n",
       " '专业',\n",
       " '就是',\n",
       " '观看',\n",
       " 'youtube',\n",
       " '视频',\n",
       " '<EOS>']"
      ]
     },
     "execution_count": 117,
     "metadata": {},
     "output_type": "execute_result"
    }
   ],
   "source": [
    "zh_en_val_list = [pair[0] for pair in zh_val_pairs_cleaned]\n",
    "zh_translated_sentence_list = zh_translate(zh_en_val_list, zh_id2words)\n",
    "zh_translated_sentence_list[0]"
   ]
  },
  {
   "cell_type": "code",
   "execution_count": null,
   "metadata": {
    "collapsed": true
   },
   "outputs": [],
   "source": []
  },
  {
   "cell_type": "code",
   "execution_count": 118,
   "metadata": {
    "collapsed": true
   },
   "outputs": [],
   "source": [
    "pkl.dump(zh_translated_sentence_list, open('zh_translated_sentence_list.p', 'wb'))"
   ]
  },
  {
   "cell_type": "code",
   "execution_count": 119,
   "metadata": {
    "collapsed": false
   },
   "outputs": [
    {
     "data": {
      "text/plain": [
       "['hi',\n",
       " '.',\n",
       " 'i',\n",
       " 'm',\n",
       " '<UNK>',\n",
       " '<UNK>',\n",
       " 'i',\n",
       " 'm',\n",
       " 'the',\n",
       " 'trends',\n",
       " 'manager',\n",
       " 'at',\n",
       " 'youtube',\n",
       " 'and',\n",
       " 'i',\n",
       " 'professionally',\n",
       " 'watch',\n",
       " 'youtube',\n",
       " 'videos',\n",
       " '.',\n",
       " '<EOS>']"
      ]
     },
     "execution_count": 119,
     "metadata": {},
     "output_type": "execute_result"
    }
   ],
   "source": [
    "zh_en_val_list = [pair[1] for pair in zh_val_pairs_cleaned]\n",
    "translated_sentence_list = en_translate(zh_en_val_list, en_id2words)\n",
    "translated_sentence_list[0]"
   ]
  },
  {
   "cell_type": "code",
   "execution_count": 120,
   "metadata": {
    "collapsed": false
   },
   "outputs": [],
   "source": [
    "pkl.dump(translated_sentence_list, open('translated_sentence_list_val.p', 'wb'))"
   ]
  },
  {
   "cell_type": "code",
   "execution_count": null,
   "metadata": {
    "collapsed": true
   },
   "outputs": [],
   "source": []
  },
  {
   "cell_type": "code",
   "execution_count": 65,
   "metadata": {
    "collapsed": true
   },
   "outputs": [],
   "source": [
    "def showPlot(points):\n",
    "    plt.figure()\n",
    "    fig, ax = plt.subplots()\n",
    "    loc = ticker.MultipleLocator(base=0.2) # put ticks at regular intervals\n",
    "    ax.yaxis.set_major_locator(loc)\n",
    "    plt.plot(points)\n",
    "    plt.show()"
   ]
  },
  {
   "cell_type": "code",
   "execution_count": 280,
   "metadata": {
    "collapsed": false
   },
   "outputs": [],
   "source": [
    "torch.save(encoder.state_dict(), model_path + \"encoder_rnn_atten_\"+\".pth\")\n",
    "torch.save(decoder.state_dict(), model_path + \"decoder_rnn_atten_\"+\".pth\")"
   ]
  },
  {
   "cell_type": "code",
   "execution_count": 103,
   "metadata": {
    "collapsed": true
   },
   "outputs": [],
   "source": [
    "#Reference LAB8 1-nmt\n",
    "model_path = datadir\n",
    "def AttnTrainIters(train_loader, val_loader, encoder, decoder, n_iters, val_translated_list,\n",
    "                   print_every=100, plot_every=100, eval_every=500, learning_rate=0.01):\n",
    "    start = time.time()\n",
    "    plot_losses = []\n",
    "    print_loss_total = 0  # Reset every print_every\n",
    "    plot_loss_total = 0  # Reset every plot_every\n",
    "\n",
    "    encoder_optimizer = optim.Adam(encoder.parameters(), lr=learning_rate)\n",
    "    decoder_optimizer = optim.Adam(decoder.parameters(), lr=learning_rate)\n",
    "    \n",
    "    criterion = nn.NLLLoss()\n",
    "    \n",
    "    total_sample = 0\n",
    "    total_loss_list = []\n",
    "    for iter in range(n_iters):\n",
    "        losses = []\n",
    "        plot_loss_total = 0\n",
    "        print_loss_total = 0\n",
    "        for i, (input_list,input_length,output_list, output_length) in enumerate(train_loader):\n",
    "            loss = attn_batch_train(input_list, input_length, output_list, output_length, encoder,\n",
    "                         decoder, encoder_optimizer, decoder_optimizer, criterion)\n",
    "            \n",
    "            total_loss_list.append(loss)\n",
    "            print_loss_total += loss\n",
    "            plot_loss_total += loss\n",
    "            \n",
    "#             if i > 0 and i % eval_every == 0:\n",
    "#                 decoded_val, decoder_attentions = greedy_attn_evaluate(val_loader, encoder, decoder, en_id2words)\n",
    "#                 decoded_clean = post_process(decoded_val)\n",
    "#                 print('bleu score is {}'.format(raw_corpus_bleu(decoded_val, val_translated_list).score))\n",
    "\n",
    "            if i > 0 and i % print_every == 0:\n",
    "                print_loss_avg = print_loss_total / print_every\n",
    "                print_loss_total = 0\n",
    "                print('%s (%d %d%%) %.4f' % (timeSince(start, total_sample / (n_iters*len(train_loader)) ),\n",
    "                                             total_sample, total_sample / (n_iters*len(train_loader)) * 100, print_loss_avg))\n",
    "\n",
    "            if i > 0 and i % plot_every == 0:\n",
    "                plot_loss_avg = plot_loss_total / plot_every\n",
    "                plot_losses.append(plot_loss_avg)\n",
    "                plot_loss_total = 0\n",
    "                \n",
    "            total_sample += 1\n",
    "            \n",
    "        torch.save(encoder.state_dict(), model_path + \"encoder_rnn_attn2_\"+str(start)+\".pth\")\n",
    "        torch.save(decoder.state_dict(), model_path + \"decoder_rnn_attn2_\"+str(start)+\".pth\")\n",
    "\n",
    "    showPlot(plot_losses)\n",
    "    return total_loss_list, plot_losses"
   ]
  },
  {
   "cell_type": "code",
   "execution_count": 282,
   "metadata": {
    "collapsed": false,
    "scrolled": false
   },
   "outputs": [
    {
     "name": "stdout",
     "output_type": "stream",
     "text": [
      "1m 20s (- 87m 54s) (100 1%) 2.7042\n",
      "2m 40s (- 85m 44s) (200 3%) 1.6607\n",
      "3m 59s (- 84m 3s) (300 4%) 1.6244\n",
      "5m 19s (- 82m 41s) (400 6%) 1.6178\n",
      "6m 39s (- 81m 26s) (500 7%) 1.5573\n",
      "7m 59s (- 80m 9s) (600 9%) 1.5505\n",
      "9m 19s (- 78m 48s) (700 10%) 1.5148\n",
      "10m 39s (- 77m 32s) (800 12%) 1.5598\n",
      "11m 59s (- 76m 11s) (900 13%) 1.5805\n",
      "13m 19s (- 74m 52s) (1000 15%) 1.5276\n",
      "14m 40s (- 73m 33s) (1100 16%) 1.5397\n",
      "15m 59s (- 72m 11s) (1200 18%) 1.5269\n",
      "17m 19s (- 70m 52s) (1300 19%) 1.5424\n",
      "18m 39s (- 69m 30s) (1400 21%) 1.4902\n",
      "19m 59s (- 68m 11s) (1500 22%) 1.5022\n",
      "21m 18s (- 66m 49s) (1600 24%) 1.4572\n",
      "22m 38s (- 65m 30s) (1700 25%) 1.4941\n",
      "23m 58s (- 64m 9s) (1800 27%) 1.4526\n",
      "25m 18s (- 62m 49s) (1900 28%) 1.4657\n",
      "26m 38s (- 61m 29s) (2000 30%) 1.4198\n",
      "27m 58s (- 60m 10s) (2100 31%) 1.4385\n",
      "29m 18s (- 58m 51s) (2200 33%) 1.4285\n",
      "30m 38s (- 57m 31s) (2300 34%) 1.3837\n",
      "31m 58s (- 56m 11s) (2400 36%) 1.3921\n",
      "33m 18s (- 54m 51s) (2500 37%) 1.4192\n",
      "34m 38s (- 53m 31s) (2600 39%) 1.3971\n",
      "35m 58s (- 52m 11s) (2700 40%) 1.3853\n",
      "37m 18s (- 50m 51s) (2800 42%) 1.4187\n",
      "38m 38s (- 49m 31s) (2900 43%) 1.3849\n",
      "39m 58s (- 48m 11s) (3000 45%) 1.3703\n",
      "41m 18s (- 46m 51s) (3100 46%) 1.3861\n",
      "42m 38s (- 45m 31s) (3200 48%) 1.3661\n",
      "43m 58s (- 44m 11s) (3300 49%) 1.3491\n",
      "45m 18s (- 42m 52s) (3400 51%) 1.3720\n",
      "46m 38s (- 41m 32s) (3500 52%) 1.3361\n",
      "47m 58s (- 40m 12s) (3600 54%) 1.3328\n",
      "49m 18s (- 38m 52s) (3700 55%) 1.3426\n",
      "50m 38s (- 37m 32s) (3800 57%) 1.3638\n",
      "51m 58s (- 36m 12s) (3900 58%) 1.3787\n",
      "53m 18s (- 34m 52s) (4000 60%) 1.3442\n",
      "54m 38s (- 33m 32s) (4100 61%) 1.3296\n",
      "55m 58s (- 32m 12s) (4200 63%) 1.3158\n",
      "57m 18s (- 30m 52s) (4300 64%) 1.2941\n",
      "58m 38s (- 29m 32s) (4400 66%) 1.3116\n",
      "59m 58s (- 28m 12s) (4500 68%) 1.3646\n",
      "61m 18s (- 26m 53s) (4600 69%) 1.3528\n",
      "62m 39s (- 25m 33s) (4700 71%) 1.2976\n",
      "63m 59s (- 24m 13s) (4800 72%) 1.3586\n",
      "65m 19s (- 22m 53s) (4900 74%) 1.2964\n",
      "66m 39s (- 21m 33s) (5000 75%) 1.2890\n",
      "67m 58s (- 20m 13s) (5100 77%) 1.2976\n",
      "69m 18s (- 18m 53s) (5200 78%) 1.3032\n",
      "70m 38s (- 17m 33s) (5300 80%) 1.2922\n",
      "71m 58s (- 16m 13s) (5400 81%) 1.2989\n",
      "73m 18s (- 14m 53s) (5500 83%) 1.3013\n",
      "74m 37s (- 13m 33s) (5600 84%) 1.2919\n",
      "75m 57s (- 12m 13s) (5700 86%) 1.2793\n",
      "77m 17s (- 10m 53s) (5800 87%) 1.2704\n",
      "78m 37s (- 9m 33s) (5900 89%) 1.2834\n",
      "79m 57s (- 8m 13s) (6000 90%) 1.2877\n",
      "81m 18s (- 6m 53s) (6100 92%) 1.2961\n",
      "82m 38s (- 5m 33s) (6200 93%) 1.2733\n",
      "83m 58s (- 4m 13s) (6300 95%) 1.2508\n",
      "85m 18s (- 2m 53s) (6400 96%) 1.2490\n",
      "86m 38s (- 1m 33s) (6500 98%) 1.2677\n",
      "87m 58s (- 0m 13s) (6600 99%) 1.2738\n"
     ]
    }
   ],
   "source": [
    "learning_rate = 0.001\n",
    "hidden_size = 256\n",
    "\n",
    "\n",
    "# encoder = PreBatchEncoderRNN(loaded_zh_embeddings, emb_size, hidden_size).to(device)\n",
    "# attn_decoder = PreBatchAttnDecoderRNN(loaded_zh_embeddings, emb_size,hidden_size, len(zh_ordered_words)).to(device)\n",
    "\n",
    "AttnTrainIters(train_zh_loader, val_zh_loader, encoder, attn_decoder, 1,\n",
    "               None, print_every=100, learning_rate=learning_rate)\n"
   ]
  },
  {
   "cell_type": "code",
   "execution_count": 289,
   "metadata": {
    "collapsed": false
   },
   "outputs": [
    {
     "name": "stdout",
     "output_type": "stream",
     "text": [
      "1m 21s (- 177m 50s) (100 0%) 1.2942\n",
      "2m 41s (- 175m 37s) (200 1%) 1.3167\n",
      "4m 1s (- 173m 45s) (300 2%) 1.2504\n",
      "5m 21s (- 172m 6s) (400 3%) 1.2793\n",
      "6m 41s (- 170m 13s) (500 3%) 1.2506\n",
      "8m 0s (- 168m 39s) (600 4%) 1.2727\n",
      "9m 20s (- 167m 15s) (700 5%) 1.2799\n",
      "10m 39s (- 165m 46s) (800 6%) 1.2354\n",
      "11m 59s (- 164m 19s) (900 6%) 1.2389\n",
      "13m 19s (- 162m 58s) (1000 7%) 1.2446\n",
      "14m 38s (- 161m 34s) (1100 8%) 1.2366\n",
      "15m 58s (- 160m 8s) (1200 9%) 1.2649\n",
      "17m 17s (- 158m 44s) (1300 9%) 1.2776\n",
      "18m 37s (- 157m 28s) (1400 10%) 1.2547\n",
      "19m 57s (- 156m 7s) (1500 11%) 1.2226\n",
      "21m 17s (- 154m 47s) (1600 12%) 1.2337\n",
      "22m 36s (- 153m 22s) (1700 12%) 1.2139\n",
      "23m 55s (- 151m 57s) (1800 13%) 1.2386\n",
      "25m 13s (- 150m 30s) (1900 14%) 1.2052\n",
      "26m 32s (- 149m 7s) (2000 15%) 1.2269\n",
      "27m 51s (- 147m 44s) (2100 15%) 1.2692\n",
      "29m 11s (- 146m 23s) (2200 16%) 1.2328\n",
      "30m 31s (- 145m 4s) (2300 17%) 1.2231\n",
      "31m 50s (- 143m 42s) (2400 18%) 1.2024\n",
      "33m 9s (- 142m 22s) (2500 18%) 1.2112\n",
      "34m 29s (- 141m 4s) (2600 19%) 1.2417\n",
      "35m 49s (- 139m 46s) (2700 20%) 1.2657\n",
      "37m 8s (- 138m 25s) (2800 21%) 1.2039\n",
      "38m 29s (- 137m 8s) (2900 21%) 1.2510\n",
      "39m 49s (- 135m 50s) (3000 22%) 1.2678\n",
      "41m 8s (- 134m 30s) (3100 23%) 1.2192\n",
      "42m 27s (- 133m 8s) (3200 24%) 1.1820\n",
      "43m 47s (- 131m 50s) (3300 24%) 1.2193\n",
      "45m 7s (- 130m 30s) (3400 25%) 1.2157\n",
      "46m 26s (- 129m 10s) (3500 26%) 1.2354\n",
      "47m 46s (- 127m 50s) (3600 27%) 1.1848\n",
      "49m 6s (- 126m 33s) (3700 27%) 1.2145\n",
      "50m 26s (- 125m 14s) (3800 28%) 1.2000\n",
      "51m 47s (- 123m 56s) (3900 29%) 1.2105\n",
      "53m 7s (- 122m 37s) (4000 30%) 1.2032\n",
      "54m 26s (- 121m 18s) (4100 30%) 1.2112\n",
      "55m 46s (- 119m 58s) (4200 31%) 1.1793\n",
      "57m 7s (- 118m 41s) (4300 32%) 1.2263\n",
      "58m 27s (- 117m 22s) (4400 33%) 1.2087\n",
      "59m 47s (- 116m 3s) (4500 34%) 1.2354\n",
      "61m 8s (- 114m 45s) (4600 34%) 1.1976\n",
      "62m 28s (- 113m 25s) (4700 35%) 1.1884\n",
      "63m 48s (- 112m 6s) (4800 36%) 1.1766\n",
      "65m 8s (- 110m 47s) (4900 37%) 1.1922\n",
      "66m 28s (- 109m 28s) (5000 37%) 1.2249\n",
      "67m 48s (- 108m 8s) (5100 38%) 1.1669\n",
      "69m 8s (- 106m 50s) (5200 39%) 1.2131\n",
      "70m 29s (- 105m 30s) (5300 40%) 1.1958\n",
      "71m 49s (- 104m 12s) (5400 40%) 1.1872\n",
      "73m 9s (- 102m 53s) (5500 41%) 1.2239\n",
      "74m 30s (- 101m 34s) (5600 42%) 1.2488\n",
      "75m 50s (- 100m 14s) (5700 43%) 1.1761\n",
      "77m 11s (- 98m 56s) (5800 43%) 1.1933\n",
      "78m 31s (- 97m 36s) (5900 44%) 1.1909\n",
      "79m 51s (- 96m 17s) (6000 45%) 1.1616\n",
      "81m 12s (- 94m 57s) (6100 46%) 1.2123\n",
      "82m 32s (- 93m 38s) (6200 46%) 1.1934\n",
      "83m 52s (- 92m 18s) (6300 47%) 1.1891\n",
      "85m 12s (- 90m 59s) (6400 48%) 1.1869\n",
      "86m 32s (- 89m 39s) (6500 49%) 1.1557\n",
      "87m 52s (- 88m 19s) (6600 49%) 1.1987\n",
      "89m 27s (- 86m 47s) (6717 50%) 1.3978\n",
      "90m 47s (- 85m 27s) (6817 51%) 1.1433\n",
      "92m 7s (- 84m 7s) (6917 52%) 1.1515\n",
      "93m 26s (- 82m 47s) (7017 53%) 1.1276\n",
      "94m 46s (- 81m 27s) (7117 53%) 1.1323\n",
      "96m 7s (- 80m 8s) (7217 54%) 1.1903\n",
      "97m 27s (- 78m 48s) (7317 55%) 1.1443\n",
      "98m 47s (- 77m 28s) (7417 56%) 1.1739\n",
      "100m 7s (- 76m 9s) (7517 56%) 1.1369\n",
      "101m 27s (- 74m 49s) (7617 57%) 1.1292\n",
      "102m 47s (- 73m 29s) (7717 58%) 1.1575\n",
      "104m 7s (- 72m 9s) (7817 59%) 1.1437\n",
      "105m 28s (- 70m 50s) (7917 59%) 1.1857\n",
      "106m 48s (- 69m 30s) (8017 60%) 1.1592\n",
      "108m 9s (- 68m 10s) (8117 61%) 1.1717\n",
      "109m 29s (- 66m 51s) (8217 62%) 1.1486\n",
      "110m 49s (- 65m 31s) (8317 62%) 1.1637\n",
      "112m 10s (- 64m 11s) (8417 63%) 1.2004\n",
      "113m 30s (- 62m 51s) (8517 64%) 1.1115\n",
      "114m 50s (- 61m 31s) (8617 65%) 1.1322\n",
      "116m 10s (- 60m 11s) (8717 65%) 1.1378\n",
      "117m 30s (- 58m 51s) (8817 66%) 1.1470\n",
      "118m 50s (- 57m 32s) (8917 67%) 1.1663\n",
      "120m 10s (- 56m 12s) (9017 68%) 1.1406\n",
      "121m 30s (- 54m 52s) (9117 68%) 1.1371\n",
      "122m 51s (- 53m 32s) (9217 69%) 1.1674\n",
      "124m 11s (- 52m 12s) (9317 70%) 1.1224\n",
      "125m 31s (- 50m 52s) (9417 71%) 1.1391\n",
      "126m 51s (- 49m 32s) (9517 71%) 1.1436\n",
      "128m 11s (- 48m 12s) (9617 72%) 1.1346\n",
      "129m 31s (- 46m 52s) (9717 73%) 1.1664\n",
      "130m 51s (- 45m 32s) (9817 74%) 1.1514\n",
      "132m 11s (- 44m 12s) (9917 74%) 1.1458\n",
      "133m 31s (- 42m 52s) (10017 75%) 1.1462\n",
      "134m 51s (- 41m 33s) (10117 76%) 1.1354\n",
      "136m 12s (- 40m 13s) (10217 77%) 1.1436\n",
      "137m 32s (- 38m 53s) (10317 77%) 1.1457\n",
      "138m 52s (- 37m 33s) (10417 78%) 1.2127\n",
      "140m 13s (- 36m 13s) (10517 79%) 1.1605\n",
      "141m 33s (- 34m 53s) (10617 80%) 1.1558\n",
      "142m 54s (- 33m 33s) (10717 80%) 1.1722\n",
      "144m 14s (- 32m 13s) (10817 81%) 1.1582\n",
      "145m 34s (- 30m 53s) (10917 82%) 1.1350\n",
      "146m 54s (- 29m 33s) (11017 83%) 1.1366\n",
      "148m 15s (- 28m 13s) (11117 84%) 1.1766\n",
      "149m 35s (- 26m 53s) (11217 84%) 1.1281\n",
      "150m 54s (- 25m 33s) (11317 85%) 1.0721\n",
      "152m 14s (- 24m 13s) (11417 86%) 1.1316\n",
      "153m 35s (- 22m 53s) (11517 87%) 1.1815\n",
      "154m 55s (- 21m 33s) (11617 87%) 1.1351\n",
      "156m 15s (- 20m 13s) (11717 88%) 1.1459\n",
      "157m 35s (- 18m 53s) (11817 89%) 1.1062\n",
      "158m 55s (- 17m 33s) (11917 90%) 1.1528\n",
      "160m 15s (- 16m 13s) (12017 90%) 1.1762\n",
      "161m 36s (- 14m 53s) (12117 91%) 1.1367\n",
      "162m 56s (- 13m 33s) (12217 92%) 1.1589\n",
      "164m 17s (- 12m 13s) (12317 93%) 1.1479\n",
      "165m 37s (- 10m 53s) (12417 93%) 1.1178\n",
      "166m 58s (- 9m 33s) (12517 94%) 1.1701\n",
      "168m 17s (- 8m 13s) (12617 95%) 1.1509\n",
      "169m 37s (- 6m 53s) (12717 96%) 1.1309\n",
      "170m 57s (- 5m 33s) (12817 96%) 1.1377\n",
      "172m 16s (- 4m 13s) (12917 97%) 1.1290\n",
      "173m 36s (- 2m 53s) (13017 98%) 1.1600\n",
      "174m 56s (- 1m 33s) (13117 99%) 1.1244\n",
      "176m 16s (- 0m 13s) (13217 99%) 1.1367\n"
     ]
    }
   ],
   "source": [
    "plot_losses = AttnTrainIters(train_zh_loader, val_zh_loader, encoder, attn_decoder, 2,\n",
    "               None, print_every=100, learning_rate=learning_rate)\n"
   ]
  },
  {
   "cell_type": "code",
   "execution_count": 329,
   "metadata": {
    "collapsed": true
   },
   "outputs": [],
   "source": [
    "encoder_backup = encoder\n",
    "decoder_backup = attn_decoder"
   ]
  },
  {
   "cell_type": "code",
   "execution_count": 67,
   "metadata": {
    "collapsed": true
   },
   "outputs": [
    {
     "ename": "NameError",
     "evalue": "name 'encoder_backup' is not defined",
     "output_type": "error",
     "traceback": [
      "\u001b[0;31m---------------------------------------------------------------------------\u001b[0m",
      "\u001b[0;31mNameError\u001b[0m                                 Traceback (most recent call last)",
      "\u001b[0;32m<ipython-input-67-be7f79364f35>\u001b[0m in \u001b[0;36m<module>\u001b[0;34m\u001b[0m\n\u001b[0;32m----> 1\u001b[0;31m \u001b[0mencoder_backup\u001b[0m\u001b[0;34m,\u001b[0m \u001b[0mdecoder_backup\u001b[0m\u001b[0;34m\u001b[0m\u001b[0m\n\u001b[0m",
      "\u001b[0;31mNameError\u001b[0m: name 'encoder_backup' is not defined"
     ]
    }
   ],
   "source": [
    "encoder_backup, decoder_backup"
   ]
  },
  {
   "cell_type": "code",
   "execution_count": 79,
   "metadata": {
    "collapsed": false
   },
   "outputs": [
    {
     "name": "stdout",
     "output_type": "stream",
     "text": [
      "1m 20s (- 265m 30s) (100 0%) 2.6145\n",
      "2m 39s (- 261m 42s) (200 1%) 1.6224\n",
      "3m 59s (- 259m 50s) (300 1%) 1.6505\n",
      "5m 18s (- 258m 5s) (400 2%) 1.5879\n",
      "6m 37s (- 256m 25s) (500 2%) 1.5498\n",
      "7m 56s (- 255m 2s) (600 3%) 1.5647\n",
      "9m 16s (- 253m 45s) (700 3%) 1.5371\n",
      "10m 35s (- 252m 18s) (800 4%) 1.5224\n",
      "11m 55s (- 251m 2s) (900 4%) 1.5255\n",
      "13m 14s (- 249m 44s) (1000 5%) 1.4968\n",
      "14m 34s (- 248m 28s) (1100 5%) 1.4864\n",
      "15m 54s (- 247m 10s) (1200 6%) 1.4749\n",
      "17m 13s (- 245m 51s) (1300 6%) 1.4653\n",
      "18m 33s (- 244m 34s) (1400 7%) 1.4737\n",
      "19m 53s (- 243m 16s) (1500 7%) 1.4448\n",
      "21m 12s (- 241m 55s) (1600 8%) 1.4515\n",
      "22m 31s (- 240m 33s) (1700 8%) 1.4294\n",
      "23m 51s (- 239m 17s) (1800 9%) 1.4517\n",
      "25m 11s (- 237m 59s) (1900 9%) 1.4343\n",
      "26m 30s (- 236m 38s) (2000 10%) 1.4094\n",
      "27m 50s (- 235m 22s) (2100 10%) 1.4206\n",
      "29m 10s (- 234m 2s) (2200 11%) 1.3789\n",
      "30m 29s (- 232m 40s) (2300 11%) 1.3468\n",
      "31m 48s (- 231m 19s) (2400 12%) 1.3678\n",
      "33m 8s (- 229m 57s) (2500 12%) 1.3789\n",
      "34m 28s (- 228m 41s) (2600 13%) 1.4265\n",
      "35m 47s (- 227m 20s) (2700 13%) 1.3813\n",
      "37m 6s (- 225m 59s) (2800 14%) 1.3414\n",
      "38m 25s (- 224m 38s) (2900 14%) 1.3529\n",
      "39m 45s (- 223m 17s) (3000 15%) 1.3247\n",
      "41m 3s (- 221m 54s) (3100 15%) 1.3057\n",
      "42m 23s (- 220m 34s) (3200 16%) 1.3352\n",
      "43m 42s (- 219m 14s) (3300 16%) 1.3393\n",
      "45m 2s (- 217m 54s) (3400 17%) 1.3440\n",
      "46m 21s (- 216m 34s) (3500 17%) 1.3173\n",
      "47m 40s (- 215m 14s) (3600 18%) 1.3247\n",
      "49m 0s (- 213m 55s) (3700 18%) 1.2784\n",
      "50m 20s (- 212m 36s) (3800 19%) 1.3043\n",
      "51m 39s (- 211m 16s) (3900 19%) 1.3227\n",
      "52m 59s (- 210m 0s) (4000 20%) 1.3440\n",
      "54m 19s (- 208m 40s) (4100 20%) 1.2827\n",
      "55m 38s (- 207m 20s) (4200 21%) 1.3382\n",
      "56m 57s (- 205m 59s) (4300 21%) 1.2751\n",
      "58m 17s (- 204m 41s) (4400 22%) 1.3156\n",
      "59m 37s (- 203m 22s) (4500 22%) 1.2881\n",
      "60m 56s (- 202m 3s) (4600 23%) 1.3120\n",
      "62m 15s (- 200m 41s) (4700 23%) 1.2601\n",
      "63m 34s (- 199m 22s) (4800 24%) 1.3014\n",
      "64m 55s (- 198m 4s) (4900 24%) 1.3253\n",
      "66m 14s (- 196m 45s) (5000 25%) 1.2732\n",
      "67m 34s (- 195m 26s) (5100 25%) 1.2837\n",
      "68m 53s (- 194m 7s) (5200 26%) 1.3096\n",
      "70m 13s (- 192m 48s) (5300 26%) 1.3202\n",
      "71m 33s (- 191m 28s) (5400 27%) 1.2528\n",
      "72m 53s (- 190m 11s) (5500 27%) 1.2621\n",
      "74m 13s (- 188m 52s) (5600 28%) 1.2642\n",
      "75m 33s (- 187m 34s) (5700 28%) 1.2480\n",
      "76m 53s (- 186m 15s) (5800 29%) 1.2419\n",
      "78m 13s (- 184m 57s) (5900 29%) 1.2549\n",
      "79m 33s (- 183m 38s) (6000 30%) 1.2803\n",
      "80m 52s (- 182m 18s) (6100 30%) 1.2581\n",
      "82m 12s (- 180m 59s) (6200 31%) 1.2560\n",
      "83m 31s (- 179m 39s) (6300 31%) 1.2453\n",
      "84m 51s (- 178m 20s) (6400 32%) 1.3074\n",
      "86m 10s (- 177m 1s) (6500 32%) 1.2471\n",
      "87m 30s (- 175m 42s) (6600 33%) 1.2999\n",
      "89m 4s (- 174m 9s) (6717 33%) 1.2407\n",
      "90m 23s (- 172m 48s) (6817 34%) 1.1760\n",
      "91m 42s (- 171m 29s) (6917 34%) 1.2509\n",
      "93m 1s (- 170m 8s) (7017 35%) 1.2152\n",
      "94m 21s (- 168m 49s) (7117 35%) 1.2099\n",
      "95m 40s (- 167m 29s) (7217 36%) 1.2298\n",
      "97m 0s (- 166m 10s) (7317 36%) 1.1994\n",
      "98m 19s (- 164m 50s) (7417 37%) 1.2033\n",
      "99m 39s (- 163m 31s) (7517 37%) 1.2438\n",
      "100m 58s (- 162m 11s) (7617 38%) 1.2455\n",
      "102m 18s (- 160m 51s) (7717 38%) 1.1859\n",
      "103m 38s (- 159m 32s) (7817 39%) 1.2593\n",
      "104m 57s (- 158m 12s) (7917 39%) 1.2050\n",
      "106m 17s (- 156m 53s) (8017 40%) 1.2152\n",
      "107m 36s (- 155m 33s) (8117 40%) 1.2182\n",
      "108m 55s (- 154m 13s) (8217 41%) 1.2244\n",
      "110m 15s (- 152m 53s) (8317 41%) 1.1974\n",
      "111m 34s (- 151m 34s) (8417 42%) 1.2524\n",
      "112m 54s (- 150m 15s) (8517 42%) 1.2170\n",
      "114m 13s (- 148m 55s) (8617 43%) 1.2082\n",
      "115m 33s (- 147m 35s) (8717 43%) 1.1786\n",
      "116m 52s (- 146m 15s) (8817 44%) 1.1943\n",
      "118m 11s (- 144m 55s) (8917 44%) 1.1778\n",
      "119m 31s (- 143m 36s) (9017 45%) 1.2040\n",
      "120m 51s (- 142m 17s) (9117 45%) 1.1766\n",
      "122m 11s (- 140m 58s) (9217 46%) 1.2138\n",
      "123m 31s (- 139m 39s) (9317 46%) 1.1943\n",
      "124m 51s (- 138m 20s) (9417 47%) 1.1978\n",
      "126m 11s (- 137m 1s) (9517 47%) 1.1819\n",
      "127m 31s (- 135m 42s) (9617 48%) 1.1919\n",
      "128m 51s (- 134m 22s) (9717 48%) 1.1734\n",
      "130m 11s (- 133m 3s) (9817 49%) 1.2008\n",
      "131m 31s (- 131m 44s) (9917 49%) 1.1964\n",
      "132m 50s (- 130m 25s) (10017 50%) 1.1696\n",
      "134m 10s (- 129m 5s) (10117 50%) 1.1827\n",
      "135m 30s (- 127m 46s) (10217 51%) 1.1925\n",
      "136m 50s (- 126m 26s) (10317 51%) 1.1771\n",
      "138m 10s (- 125m 7s) (10417 52%) 1.1817\n",
      "139m 29s (- 123m 48s) (10517 52%) 1.1873\n",
      "140m 50s (- 122m 29s) (10617 53%) 1.2483\n",
      "142m 10s (- 121m 10s) (10717 53%) 1.1944\n",
      "143m 30s (- 119m 51s) (10817 54%) 1.2017\n",
      "144m 50s (- 118m 31s) (10917 54%) 1.1534\n",
      "146m 10s (- 117m 12s) (11017 55%) 1.1949\n",
      "147m 30s (- 115m 53s) (11117 56%) 1.1524\n",
      "148m 50s (- 114m 34s) (11217 56%) 1.2217\n",
      "150m 11s (- 113m 15s) (11317 57%) 1.2156\n",
      "151m 31s (- 111m 55s) (11417 57%) 1.1594\n",
      "152m 51s (- 110m 36s) (11517 58%) 1.1661\n",
      "154m 10s (- 109m 16s) (11617 58%) 1.1616\n",
      "155m 30s (- 107m 57s) (11717 59%) 1.2245\n",
      "156m 49s (- 106m 37s) (11817 59%) 1.1576\n",
      "158m 9s (- 105m 17s) (11917 60%) 1.2044\n",
      "159m 28s (- 103m 57s) (12017 60%) 1.1621\n",
      "160m 48s (- 102m 38s) (12117 61%) 1.1694\n",
      "162m 7s (- 101m 18s) (12217 61%) 1.1756\n",
      "163m 28s (- 99m 59s) (12317 62%) 1.1702\n",
      "164m 48s (- 98m 39s) (12417 62%) 1.1781\n",
      "166m 7s (- 97m 20s) (12517 63%) 1.1442\n",
      "167m 28s (- 96m 1s) (12617 63%) 1.2172\n",
      "168m 48s (- 94m 42s) (12717 64%) 1.2171\n",
      "170m 8s (- 93m 22s) (12817 64%) 1.1529\n",
      "171m 28s (- 92m 2s) (12917 65%) 1.1787\n",
      "172m 48s (- 90m 43s) (13017 65%) 1.1722\n",
      "174m 8s (- 89m 24s) (13117 66%) 1.1916\n",
      "175m 28s (- 88m 4s) (13217 66%) 1.1917\n",
      "177m 2s (- 86m 31s) (13334 67%) 1.1724\n",
      "178m 22s (- 85m 12s) (13434 67%) 1.1110\n",
      "179m 42s (- 83m 52s) (13534 68%) 1.1634\n",
      "181m 2s (- 82m 33s) (13634 68%) 1.1368\n",
      "182m 22s (- 81m 13s) (13734 69%) 1.1578\n",
      "183m 41s (- 79m 53s) (13834 69%) 1.1098\n",
      "185m 1s (- 78m 34s) (13934 70%) 1.1467\n",
      "186m 21s (- 77m 14s) (14034 70%) 1.1325\n",
      "187m 41s (- 75m 55s) (14134 71%) 1.1763\n",
      "189m 1s (- 74m 35s) (14234 71%) 1.1681\n",
      "190m 20s (- 73m 15s) (14334 72%) 1.1443\n",
      "191m 40s (- 71m 56s) (14434 72%) 1.1204\n",
      "193m 0s (- 70m 36s) (14534 73%) 1.1446\n",
      "194m 21s (- 69m 17s) (14634 73%) 1.1105\n",
      "195m 40s (- 67m 57s) (14734 74%) 1.1707\n",
      "197m 0s (- 66m 37s) (14834 74%) 1.1611\n",
      "198m 20s (- 65m 18s) (14934 75%) 1.1613\n",
      "199m 39s (- 63m 58s) (15034 75%) 1.1531\n",
      "200m 59s (- 62m 38s) (15134 76%) 1.1397\n",
      "202m 18s (- 61m 18s) (15234 76%) 1.1194\n",
      "203m 37s (- 59m 59s) (15334 77%) 1.1187\n",
      "204m 56s (- 58m 39s) (15434 77%) 1.1111\n",
      "206m 16s (- 57m 19s) (15534 78%) 1.1026\n",
      "207m 35s (- 55m 59s) (15634 78%) 1.1047\n",
      "208m 54s (- 54m 39s) (15734 79%) 1.1384\n",
      "210m 13s (- 53m 19s) (15834 79%) 1.0856\n",
      "211m 33s (- 52m 0s) (15934 80%) 1.1933\n",
      "212m 52s (- 50m 40s) (16034 80%) 1.1724\n",
      "214m 12s (- 49m 20s) (16134 81%) 1.1413\n",
      "215m 31s (- 48m 1s) (16234 81%) 1.1337\n",
      "216m 51s (- 46m 41s) (16334 82%) 1.1224\n",
      "218m 10s (- 45m 21s) (16434 82%) 1.1417\n",
      "219m 29s (- 44m 2s) (16534 83%) 1.1049\n",
      "220m 48s (- 42m 42s) (16634 83%) 1.0995\n",
      "222m 7s (- 41m 22s) (16734 84%) 1.1259\n",
      "223m 27s (- 40m 2s) (16834 84%) 1.1222\n",
      "224m 47s (- 38m 43s) (16934 85%) 1.1617\n",
      "226m 6s (- 37m 23s) (17034 85%) 1.1315\n",
      "227m 25s (- 36m 3s) (17134 86%) 1.1439\n",
      "228m 45s (- 34m 44s) (17234 86%) 1.1227\n",
      "230m 4s (- 33m 24s) (17334 87%) 1.1145\n",
      "231m 23s (- 32m 4s) (17434 87%) 1.1405\n",
      "232m 42s (- 30m 45s) (17534 88%) 1.1629\n",
      "234m 2s (- 29m 25s) (17634 88%) 1.1228\n",
      "235m 21s (- 28m 5s) (17734 89%) 1.1230\n",
      "236m 41s (- 26m 46s) (17834 89%) 1.1401\n",
      "238m 0s (- 25m 26s) (17934 90%) 1.1208\n",
      "239m 19s (- 24m 6s) (18034 90%) 1.1244\n",
      "240m 39s (- 22m 47s) (18134 91%) 1.1460\n",
      "241m 58s (- 21m 27s) (18234 91%) 1.1270\n",
      "243m 17s (- 20m 7s) (18334 92%) 1.0860\n",
      "244m 36s (- 18m 48s) (18434 92%) 1.1364\n",
      "245m 55s (- 17m 28s) (18534 93%) 1.1018\n",
      "247m 15s (- 16m 8s) (18634 93%) 1.1162\n",
      "248m 34s (- 14m 49s) (18734 94%) 1.1901\n",
      "249m 54s (- 13m 29s) (18834 94%) 1.1229\n",
      "251m 14s (- 12m 10s) (18934 95%) 1.1130\n",
      "252m 33s (- 10m 50s) (19034 95%) 1.1324\n",
      "253m 52s (- 9m 30s) (19134 96%) 1.1350\n",
      "255m 13s (- 8m 11s) (19234 96%) 1.1357\n",
      "256m 33s (- 6m 51s) (19334 97%) 1.1843\n",
      "257m 53s (- 5m 32s) (19434 97%) 1.1224\n",
      "259m 13s (- 4m 12s) (19534 98%) 1.0966\n",
      "260m 33s (- 2m 52s) (19634 98%) 1.1181\n",
      "261m 53s (- 1m 33s) (19734 99%) 1.1071\n",
      "263m 13s (- 0m 13s) (19834 99%) 1.1438\n"
     ]
    },
    {
     "data": {
      "text/plain": [
       "<Figure size 432x288 with 0 Axes>"
      ]
     },
     "metadata": {},
     "output_type": "display_data"
    },
    {
     "data": {
      "image/png": "[encoded data removed]",
      "text/plain": [
       "<Figure size 432x288 with 1 Axes>"
      ]
     },
     "metadata": {},
     "output_type": "display_data"
    }
   ],
   "source": [
    "learning_rate = 0.001\n",
    "hidden_size = 256\n",
    "\n",
    "# encoder = PreBatchEncoderRNN(loaded_zh_embeddings, emb_size, hidden_size).to(device)\n",
    "# attn_decoder = PreBatchAttnDecoderRNN(loaded_en_embeddings, emb_size,hidden_size, len(en_ordered_words)).to(device)\n",
    "\n",
    "total_loss_list_en, plot_losses_en = AttnTrainIters(train_zh_loader, val_zh_loader, encoder, attn_decoder, 3,\n",
    "               None, print_every=100, learning_rate=learning_rate)\n"
   ]
  },
  {
   "cell_type": "code",
   "execution_count": 80,
   "metadata": {
    "collapsed": true
   },
   "outputs": [],
   "source": [
    "import pickle as pkl\n",
    "pkl.dump(total_loss_list_en, open('total_loss_list_en.p', 'wb'))\n",
    "pkl.dump(plot_losses_en, open('plot_losses_en.p', 'wb'))"
   ]
  },
  {
   "cell_type": "code",
   "execution_count": null,
   "metadata": {
    "collapsed": false
   },
   "outputs": [
    {
     "name": "stdout",
     "output_type": "stream",
     "text": [
      "1m 20s (- 87m 52s) (100 1%) 1.0752\n",
      "2m 40s (- 85m 55s) (200 3%) 1.0620\n",
      "4m 0s (- 84m 17s) (300 4%) 1.0473\n",
      "5m 19s (- 82m 41s) (400 6%) 1.0268\n",
      "6m 39s (- 81m 21s) (500 7%) 1.0890\n",
      "7m 58s (- 79m 59s) (600 9%) 1.0692\n",
      "9m 18s (- 78m 38s) (700 10%) 1.0784\n"
     ]
    }
   ],
   "source": [
    "total_loss_list_en3, plot_losses_en3 = AttnTrainIters(train_zh_loader, val_zh_loader, encoder, attn_decoder, 1,\n",
    "               None, print_every=100, learning_rate=learning_rate)"
   ]
  },
  {
   "cell_type": "code",
   "execution_count": 107,
   "metadata": {
    "collapsed": false
   },
   "outputs": [
    {
     "data": {
      "text/plain": [
       "132"
      ]
     },
     "execution_count": 107,
     "metadata": {},
     "output_type": "execute_result"
    }
   ],
   "source": [
    "len(plot_losses_en2)"
   ]
  },
  {
   "cell_type": "code",
   "execution_count": 108,
   "metadata": {
    "collapsed": true
   },
   "outputs": [],
   "source": [
    "plot_loss_append = plot_losses_en + plot_losses_en2"
   ]
  },
  {
   "cell_type": "code",
   "execution_count": 90,
   "metadata": {
    "collapsed": false
   },
   "outputs": [
    {
     "data": {
      "text/plain": [
       "<Figure size 432x288 with 0 Axes>"
      ]
     },
     "metadata": {},
     "output_type": "display_data"
    },
    {
     "data": {
      "image/png": "[encoded data removed]",
      "text/plain": [
       "<Figure size 432x288 with 1 Axes>"
      ]
     },
     "metadata": {},
     "output_type": "display_data"
    }
   ],
   "source": [
    "plt.figure()\n",
    "fig, ax = plt.subplots()\n",
    "loc = ticker.MultipleLocator(base=0.2) # put ticks at regular intervals\n",
    "ax.yaxis.set_major_locator(loc)\n",
    "plt.plot(total_loss_list_en)\n",
    "\n",
    "plt.title('Total Training loss with respect to time')\n",
    "plt.xlabel('Iteration')\n",
    "plt.ylabel('Training loss')\n",
    "plt.savefig('total_zh_attn_training_loss.png')"
   ]
  },
  {
   "cell_type": "code",
   "execution_count": 110,
   "metadata": {
    "collapsed": false
   },
   "outputs": [
    {
     "data": {
      "text/plain": [
       "<Figure size 432x288 with 0 Axes>"
      ]
     },
     "metadata": {},
     "output_type": "display_data"
    },
    {
     "data": {
      "image/png": "[encoded data removed]",
      "text/plain": [
       "<Figure size 432x288 with 1 Axes>"
      ]
     },
     "metadata": {},
     "output_type": "display_data"
    }
   ],
   "source": [
    "plt.figure()\n",
    "fig, ax = plt.subplots()\n",
    "loc = ticker.MultipleLocator(base=0.2) # put ticks at regular intervals\n",
    "ax.yaxis.set_major_locator(loc)\n",
    "plt.plot(plot_loss_append)\n",
    "\n",
    "plt.title('Training loss curve on ZH-EN for decoder with attnetion')\n",
    "plt.ylabel('Loss')\n",
    "plt.savefig('zh_attn_training_loss.png')"
   ]
  },
  {
   "cell_type": "code",
   "execution_count": 290,
   "metadata": {
    "collapsed": true
   },
   "outputs": [],
   "source": [
    "def showPlot(points):\n",
    "    plt.figure()\n",
    "    fig, ax = plt.subplots()\n",
    "    loc = ticker.MultipleLocator(base=0.2) # put ticks at regular intervals\n",
    "    ax.yaxis.set_major_locator(loc)\n",
    "    plt.plot(points)"
   ]
  },
  {
   "cell_type": "code",
   "execution_count": 291,
   "metadata": {
    "collapsed": true
   },
   "outputs": [],
   "source": [
    "showPlot(plot_losses)"
   ]
  },
  {
   "cell_type": "code",
   "execution_count": 111,
   "metadata": {
    "collapsed": false
   },
   "outputs": [
    {
     "data": {
      "text/plain": [
       "330"
      ]
     },
     "execution_count": 111,
     "metadata": {},
     "output_type": "execute_result"
    }
   ],
   "source": [
    "len(plot_loss_append)"
   ]
  },
  {
   "cell_type": "code",
   "execution_count": 112,
   "metadata": {
    "collapsed": true
   },
   "outputs": [],
   "source": [
    "pkl.dump(plot_loss_append, open('plot_losses_append_zh_attn.p', 'wb'))"
   ]
  },
  {
   "cell_type": "code",
   "execution_count": 92,
   "metadata": {
    "collapsed": true
   },
   "outputs": [],
   "source": [
    "decoder_backup = attn_decoder\n",
    "encoder_backup = encoder"
   ]
  },
  {
   "cell_type": "code",
   "execution_count": 115,
   "metadata": {
    "collapsed": false
   },
   "outputs": [
    {
     "name": "stdout",
     "output_type": "stream",
     "text": [
      "0/1396\n",
      "100/1396\n",
      "200/1396\n",
      "300/1396\n",
      "400/1396\n",
      "500/1396\n",
      "600/1396\n",
      "700/1396\n",
      "800/1396\n",
      "900/1396\n",
      "1000/1396\n",
      "1100/1396\n",
      "1200/1396\n",
      "1300/1396\n"
     ]
    }
   ],
   "source": [
    "decoded_test, decoder_attentions = greedy_attn_evaluate(test_zh_loader, encoder, attn_decoder, en_id2words)\n",
    "decoded_test_clean = post_process(decoded_test)"
   ]
  },
  {
   "cell_type": "code",
   "execution_count": 121,
   "metadata": {
    "collapsed": true
   },
   "outputs": [],
   "source": [
    "pkl.dump(decoded_test_clean, open('attn_decoded_test_clean5.p', 'wb'))"
   ]
  },
  {
   "cell_type": "code",
   "execution_count": 162,
   "metadata": {
    "collapsed": false
   },
   "outputs": [
    {
     "name": "stdout",
     "output_type": "stream",
     "text": [
      "bleu score for test dataset: 13.244067757436477\n",
      "bleu score for test dataset [raw]: 3.1149446308128703\n"
     ]
    }
   ],
   "source": []
  },
  {
   "cell_type": "code",
   "execution_count": 169,
   "metadata": {
    "collapsed": false
   },
   "outputs": [
    {
     "data": {
      "text/plain": [
       "['so', 'there', 's', 'this', '.', 'this', '.', '.', '<EOS>']"
      ]
     },
     "execution_count": 169,
     "metadata": {},
     "output_type": "execute_result"
    }
   ],
   "source": [
    "random.choice(decoded_clean)"
   ]
  },
  {
   "cell_type": "code",
   "execution_count": null,
   "metadata": {
    "collapsed": true
   },
   "outputs": [],
   "source": [
    "torch.cuda.get_device_name(0)"
   ]
  },
  {
   "cell_type": "code",
   "execution_count": null,
   "metadata": {
    "collapsed": true
   },
   "outputs": [],
   "source": [
    "time = timer()\n",
    "i = 0\n",
    "for batch in train_zh_loader:\n",
    "    i += 1\n",
    "print(i)"
   ]
  },
  {
   "cell_type": "code",
   "execution_count": 324,
   "metadata": {
    "collapsed": true
   },
   "outputs": [],
   "source": [
    "def beam_evaluate(val_loader, encoder, decoder, beam_width, k):\n",
    "    '''\n",
    "    beam_width: number of best nodes kept at each iterations\n",
    "    k: number of sentences we want to keep\n",
    "    Returns the translated batch\n",
    "    '''\n",
    "    \n",
    "    \n",
    "    decoded_batch = []\n",
    "    #decoder_attentions = torch.zeros(max_length, batch_size, max_input_length)#in length, each position has attention\n",
    "\n",
    "    with torch.no_grad():\n",
    "        encoder.eval()\n",
    "        decoder.eval()\n",
    "        \n",
    "        for i, (input_list, input_length, output_list, output_length) in enumerate(val_loader):\n",
    "            if i %100 == 0:\n",
    "                print(\"%d/%d\"%(i,len(val_loader)))\n",
    "                    \n",
    "            #    break\n",
    "            #batch_size, max_len = output_list.size()\n",
    "#             print(input_list.size())\n",
    "            \n",
    "            encoder_hidden = encoder.initHidden(1)\n",
    "            encoder_outputs, encoder_hidden = encoder(input_list, input_length, encoder_hidden)\n",
    "\n",
    "            decoder_input = torch.tensor(np.array([[SOS_TOKEN]]), device=device) #SOS 1 sentence a time\n",
    "            decoder_hidden = encoder_hidden[:decoder.n_layers] # decoder starts from the last encoding sentence\n",
    "            # output of this function\n",
    "            \n",
    "            decoded_words = []\n",
    "            #decoder_attentions = torch.zeros(MAX_LENGTH, MAX_LENGTH)\n",
    "            \n",
    "            start_node = SearchNode(decoder_input, decoder_hidden, prev = None, curr_score = 0, length = 1)\n",
    "            nodes = PriorityQueue()\n",
    "            nodes.put(( -(start_node.score), start_node))\n",
    "            end_nodes = []\n",
    "            \n",
    "\n",
    "            while(len(end_nodes) < k):\n",
    "                curr_score, curr_node = nodes.get()\n",
    "                if (curr_node.word_idx == EOS_TOKEN) and (curr_node.prev != None):\n",
    "                    end_nodes.append((-(curr_node.score),curr_node))\n",
    "                    if len(end_nodes) >=k:\n",
    "                        break;\n",
    "                    else: \n",
    "                        continue;\n",
    "\n",
    "                if nodes.qsize() >= MAX_LENGTH:#if too long will force to stop\n",
    "                    #Create an EOS dummy node to trace back the entire sentence\n",
    "                    EOS_node = SearchNode(torch.tensor([[EOS_TOKEN]], device = device), curr_node.hidden, \n",
    "                                          curr_node, curr_node.score, (curr_node.length)+1)\n",
    "                    end_nodes.append((-(EOS_node.score), EOS_node))\n",
    "                    if len(end_nodes) >= k:\n",
    "                        break;\n",
    "                    else:\n",
    "                        continue;\n",
    "\n",
    "                decoder_input = curr_node.word_idx\n",
    "                decoder_hidden = curr_node.hidden\n",
    "\n",
    "                # for each time step, the decoder network takes two inputs: previous outputs \n",
    "                #and the previous hidden states\n",
    "                decoder_output, decoder_hidden, decoder_attention = decoder(\n",
    "                        decoder_input, decoder_hidden, encoder_outputs)\n",
    "\n",
    "\n",
    "                scores, indexes = torch.topk(decoder_output, beam_width)\n",
    "                candidate_nodes = []\n",
    "                for i in range(beam_width):\n",
    "                    candidate_idx = indexes[0][i].view(1, -1)\n",
    "                    candidate_score = scores[0][i].item()\n",
    "\n",
    "                    candidate_node = SearchNode(candidate_idx, decoder_hidden, \n",
    "                                                   curr_node, candidate_score, curr_node.length + 1)\n",
    "                    candidate_nodes.append((-(candidate_node.score), candidate_node))\n",
    "\n",
    "                for j in range(beam_width):\n",
    "                    to_push_score, to_push_node = candidate_nodes[j]\n",
    "                    #print(to_push_score)\n",
    "                    nodes.put((-(to_push_score), to_push_node))\n",
    "                #End of the while loop\n",
    "\n",
    "            sentences = translate_end_nodes(end_nodes)\n",
    "            decoded_batch.append(sentences)\n",
    "            #End of the batch loop\n",
    "        \n",
    "    return decoded_batch"
   ]
  },
  {
   "cell_type": "code",
   "execution_count": 325,
   "metadata": {
    "collapsed": false
   },
   "outputs": [],
   "source": [
    "class SearchNode(object):\n",
    "    def __init__(self, word_idx, hidden, prev, curr_score, length):\n",
    "        self.hidden = hidden\n",
    "        self.word_idx = word_idx\n",
    "        self.prev = prev\n",
    "        \n",
    "        if self.prev == None:\n",
    "            self.score = curr_score\n",
    "        else:\n",
    "            self.score = self.prev.score + curr_score\n",
    "        self.length = length\n",
    "\n",
    "#Translate the sentences.\n",
    "def translate_end_nodes(end_nodes):\n",
    "    sentences = []\n",
    "    #end_nodes = sorted(end_nodes, key = operator.itemgetter(0),reverse = True)\n",
    "    for _, end_node in end_nodes:\n",
    "        sentence = []\n",
    "        while end_node.prev != None:\n",
    "            sentence.append(en_id2words[end_node.word_idx.item()])\n",
    "            end_node = end_node.prev\n",
    "        sentence = sentence[::-1]#Reverse the sentence to get the sentence\n",
    "        sentences.append(sentence)\n",
    "    return sentences\n"
   ]
  },
  {
   "cell_type": "code",
   "execution_count": 327,
   "metadata": {
    "collapsed": false
   },
   "outputs": [
    {
     "name": "stdout",
     "output_type": "stream",
     "text": [
      "0/1257\n",
      "100/1257\n",
      "200/1257\n",
      "300/1257\n",
      "400/1257\n",
      "500/1257\n",
      "600/1257\n",
      "700/1257\n",
      "800/1257\n",
      "900/1257\n",
      "1000/1257\n",
      "1100/1257\n",
      "1200/1257\n"
     ]
    }
   ],
   "source": [
    "decoded_val = beam_evaluate(val_zh_loader, encoder, attn_decoder, 5,1)\n",
    "decoded_clean = post_process(decoded_val)"
   ]
  },
  {
   "cell_type": "code",
   "execution_count": 105,
   "metadata": {
    "collapsed": false
   },
   "outputs": [
    {
     "data": {
      "text/plain": [
       "['我们 欣慰 地 发现 国内 的 年轻 年轻人 正在 权威 地 解释 议事 阻挠 是 什么 为什么 什么 上院 议员 们 要 牺牲 睡眠 来 捍卫 原则',\n",
       " 'and it was with great delight that we found young people up and down the country explaining with authority what filibustering was and why the lords might defy their bedtime on a point of principle .']"
      ]
     },
     "execution_count": 105,
     "metadata": {},
     "output_type": "execute_result"
    }
   ],
   "source": [
    "train_zh_pairs[763]"
   ]
  },
  {
   "cell_type": "code",
   "execution_count": null,
   "metadata": {
    "collapsed": true
   },
   "outputs": [],
   "source": []
  }
 ],
 "metadata": {
  "kernelspec": {
   "display_name": "Python 3",
   "language": "python",
   "name": "python3"
  },
  "language_info": {
   "codemirror_mode": {
    "name": "ipython",
    "version": 3
   },
   "file_extension": ".py",
   "mimetype": "text/x-python",
   "name": "python",
   "nbconvert_exporter": "python",
   "pygments_lexer": "ipython3",
   "version": "3.5.3"
  }
 },
 "nbformat": 4,
 "nbformat_minor": 2
}
