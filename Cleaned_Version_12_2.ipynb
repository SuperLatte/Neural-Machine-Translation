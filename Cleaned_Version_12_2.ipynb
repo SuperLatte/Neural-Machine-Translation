{
  "nbformat": 4,
  "nbformat_minor": 0,
  "metadata": {
    "colab": {
      "name": "Cleaned_Version_12_2.ipynb",
      "version": "0.3.2",
      "provenance": []
    },
    "kernelspec": {
      "name": "python3",
      "display_name": "Python 3"
    },
    "accelerator": "GPU"
  },
  "cells": [
    {
      "metadata": {
        "id": "IpdH9W7VSkuE",
        "colab_type": "code",
        "colab": {}
      },
      "cell_type": "code",
      "source": [
        "from __future__ import unicode_literals, print_function, division\n",
        "from io import open\n",
        "import unicodedata\n",
        "import string\n",
        "import re\n",
        "import random\n",
        "import numpy as np\n",
        "import torch\n",
        "import torch.nn as nn\n",
        "from torch import optim\n",
        "import torch.nn.functional as F\n",
        "from torch.utils.data import Dataset\n",
        "import operator\n",
        "\n",
        "device = torch.device(\"cuda\" if torch.cuda.is_available() else \"cpu\")"
      ],
      "execution_count": 0,
      "outputs": []
    },
    {
      "metadata": {
        "id": "KPnBUrB2Skut",
        "colab_type": "code",
        "colab": {}
      },
      "cell_type": "code",
      "source": [
        "SOS_token = 0\n",
        "EOS_token = 1\n",
        "\n",
        "class Lang:\n",
        "    def __init__(self, name):\n",
        "        self.name = name\n",
        "        self.word2index = {}\n",
        "        self.word2count = {}\n",
        "        self.index2word = {0: \"SOS\", 1: \"EOS\"}\n",
        "        self.n_words = 2  # Count SOS and EOS\n",
        "\n",
        "    def addSentence(self, sentence):\n",
        "        for word in sentence.split(' '):\n",
        "            self.addWord(word)\n",
        "\n",
        "    def addWord(self, word):\n",
        "        if word not in self.word2index:\n",
        "            self.word2index[word] = self.n_words\n",
        "            self.word2count[word] = 1\n",
        "            self.index2word[self.n_words] = word\n",
        "            self.n_words += 1\n",
        "        else:\n",
        "            self.word2count[word] += 1\n",
        "            \n",
        "\n",
        "# Turn a Unicode string to plain ASCII, thanks to\n",
        "# http://stackoverflow.com/a/518232/2809427\n",
        "def unicodeToAscii(s):\n",
        "    return ''.join(\n",
        "        c for c in unicodedata.normalize('NFD', s)\n",
        "        if unicodedata.category(c) != 'Mn'\n",
        "    )\n",
        "\n",
        "# Lowercase, trim, and remove non-letter characters\n",
        "\n",
        "\n",
        "def normalizeString(s):\n",
        "    s = unicodeToAscii(s.lower().strip())\n",
        "    s = re.sub(r\"([.!?])\", r\" \\1\", s)\n",
        "    s = re.sub(r\"[^a-zA-Z.!?]+\", r\" \", s)\n",
        "    return s\n",
        "\n",
        "\n",
        "import time\n",
        "import math\n",
        "\n",
        "\n",
        "def asMinutes(s):\n",
        "    m = math.floor(s / 60)\n",
        "    s -= m * 60\n",
        "    return '%dm %ds' % (m, s)\n",
        "\n",
        "\n",
        "def timeSince(since, percent):\n",
        "    now = time.time()\n",
        "    s = now - since\n",
        "    es = s / (percent)\n",
        "    rs = es - s\n",
        "    return '%s (- %s)' % (asMinutes(s), asMinutes(rs))\n",
        "\n",
        "def readLangs(lang1, lang2, reverse=False):\n",
        "    print(\"Reading lines...\")\n",
        "\n",
        "    # Read the file and split into lines\n",
        "    lines = open('%s-%s.txt' % (lang1, lang2), encoding='utf-8').\\\n",
        "        read().strip().split('\\n')\n",
        "\n",
        "    # Split every line into pairs and normalize\n",
        "    pairs = [[normalizeString(s) for s in l.split('\\t')] for l in lines]\n",
        "\n",
        "    # Reverse pairs, make Lang instances\n",
        "    if reverse:\n",
        "        pairs = [list(reversed(p)) for p in pairs]\n",
        "        input_lang = Lang(lang2)\n",
        "        output_lang = Lang(lang1)\n",
        "    else:\n",
        "        input_lang = Lang(lang1)\n",
        "        output_lang = Lang(lang2)\n",
        "\n",
        "    return input_lang, output_lang, pairs\n",
        "\n",
        "def indexesFromSentence(lang, sentence):\n",
        "    return [lang.word2index[word] for word in sentence.split(' ')]\n",
        "\n",
        "\n",
        "def tensorFromSentence(lang, sentence):\n",
        "    indexes = indexesFromSentence(lang, sentence)\n",
        "    indexes.append(EOS_token)\n",
        "    return torch.tensor(indexes, dtype=torch.long, device=device).view(-1, 1)\n",
        "\n",
        "\n",
        "def tensorsFromPair(pair):\n",
        "    input_tensor = tensorFromSentence(input_lang, pair[0])\n",
        "    target_tensor = tensorFromSentence(output_lang, pair[1])\n",
        "    return (input_tensor, target_tensor)\n",
        "\n",
        "MAX_LENGTH = 10\n",
        "\n",
        "eng_prefixes = (\n",
        "    \"i am \", \"i m \",\n",
        "    \"he is\", \"he s \",\n",
        "    \"she is\", \"she s\",\n",
        "    \"you are\", \"you re \",\n",
        "    \"we are\", \"we re \",\n",
        "    \"they are\", \"they re \"\n",
        ")\n",
        "\n",
        "\n",
        "def filterPair(p):\n",
        "    return len(p[0].split(' ')) < MAX_LENGTH and \\\n",
        "        len(p[1].split(' ')) < MAX_LENGTH and \\\n",
        "        p[1].startswith(eng_prefixes)\n",
        "\n",
        "\n",
        "def filterPairs(pairs):\n",
        "    return [pair for pair in pairs if filterPair(pair)]"
      ],
      "execution_count": 0,
      "outputs": []
    },
    {
      "metadata": {
        "scrolled": true,
        "id": "LTj_tfp8Sku4",
        "colab_type": "code",
        "colab": {
          "base_uri": "https://localhost:8080/",
          "height": 153
        },
        "outputId": "d43d7d3b-c9e4-43f8-9c29-55e34d6991ab"
      },
      "cell_type": "code",
      "source": [
        "def prepareData(lang1, lang2, reverse=False):\n",
        "    input_lang, output_lang, pairs = readLangs(lang1, lang2, reverse)\n",
        "    print(\"Read %s sentence pairs\" % len(pairs))\n",
        "    pairs = filterPairs(pairs)\n",
        "    print(\"Trimmed to %s sentence pairs\" % len(pairs))\n",
        "    print(\"Counting words...\")\n",
        "    for pair in pairs:\n",
        "        input_lang.addSentence(pair[0])\n",
        "        output_lang.addSentence(pair[1])\n",
        "    print(\"Counted words:\")\n",
        "    print(input_lang.name, input_lang.n_words)\n",
        "    print(output_lang.name, output_lang.n_words)\n",
        "    return input_lang, output_lang, pairs\n",
        "\n",
        "\n",
        "input_lang, output_lang, pairs = prepareData('eng', 'fra', True)\n",
        "print(random.choice(pairs))"
      ],
      "execution_count": 7,
      "outputs": [
        {
          "output_type": "stream",
          "text": [
            "Reading lines...\n",
            "Read 135842 sentence pairs\n",
            "Trimmed to 10853 sentence pairs\n",
            "Counting words...\n",
            "Counted words:\n",
            "fra 4489\n",
            "eng 2925\n",
            "['je ne baisse pas facilement les bras .', 'i m no quitter .']\n"
          ],
          "name": "stdout"
        }
      ]
    },
    {
      "metadata": {
        "scrolled": true,
        "id": "7TBaXKjaSkvG",
        "colab_type": "code",
        "colab": {
          "base_uri": "https://localhost:8080/",
          "height": 34
        },
        "outputId": "a816803b-4a76-4382-a2a4-5288eb5cdba6"
      },
      "cell_type": "code",
      "source": [
        "pairs[419]"
      ],
      "execution_count": 8,
      "outputs": [
        {
          "output_type": "execute_result",
          "data": {
            "text/plain": [
              "['nous sommes seules .', 'we re alone .']"
            ]
          },
          "metadata": {
            "tags": []
          },
          "execution_count": 8
        }
      ]
    },
    {
      "metadata": {
        "id": "GEApaeEESkvN",
        "colab_type": "text"
      },
      "cell_type": "markdown",
      "source": [
        "### The above is the data preparation stage(for single batch). No code shall be changed. "
      ]
    },
    {
      "metadata": {
        "id": "Ce0_0xzXSkvP",
        "colab_type": "text"
      },
      "cell_type": "markdown",
      "source": [
        "## 1. First test out with no batch size"
      ]
    },
    {
      "metadata": {
        "id": "Hupv89HHSkvR",
        "colab_type": "text"
      },
      "cell_type": "markdown",
      "source": [
        "### 1.1 Encoder with no batch"
      ]
    },
    {
      "metadata": {
        "id": "Ra2HD52iSkvS",
        "colab_type": "code",
        "colab": {}
      },
      "cell_type": "code",
      "source": [
        "#Here for the constant definition\n",
        "MAX_SENTENCE_LENGTH = 10\n",
        "hidden_size = 256\n",
        "SOS_token = 0\n",
        "EOS_token = 1\n",
        "max_length = 10\n"
      ],
      "execution_count": 0,
      "outputs": []
    },
    {
      "metadata": {
        "id": "_78Ucr73SkvZ",
        "colab_type": "code",
        "colab": {}
      },
      "cell_type": "code",
      "source": [
        "class EncoderRNN(nn.Module):\n",
        "    def __init__(self, input_size, hidden_size):\n",
        "        super(EncoderRNN, self).__init__()\n",
        "        self.hidden_size = hidden_size\n",
        "        self.embedding = nn.Embedding(input_size, hidden_size)\n",
        "        self.gru = nn.GRU(hidden_size, hidden_size)\n",
        "    def forward(self, input, hidden):\n",
        "        embedded = self.embedding(input).view(1,1,-1) # B x 1 x H\n",
        "        #print('The embeddded size is {}'.format(embedded.size()))\n",
        "        #When feeded in batch sizes, the size will be B x 1 x H, one token at a time\n",
        "        output = embedded##Need changes if doing the batch size\n",
        "        output, hidden = self.gru(output, hidden)\n",
        "        return output, hidden\n",
        "    \n",
        "    def initHidden(self):\n",
        "        return torch.zeros(1,1,self.hidden_size, device = device)"
      ],
      "execution_count": 0,
      "outputs": []
    },
    {
      "metadata": {
        "id": "RbdhCOEjSkve",
        "colab_type": "code",
        "colab": {}
      },
      "cell_type": "code",
      "source": [
        "#For 1 batch size, prepare the test data\n",
        "source_list = [pairs[i][0] for i in range(10)]\n",
        "output_list = [pairs[i][1] for i in range(10)]\n",
        "\n",
        "#Here they are strings:\n",
        "input_tensor = source_list[0]\n",
        "output_tensor = output_list[0]\n",
        "\n",
        "#Transfer to tensor\n",
        "input_tensor = tensorFromSentence(input_lang, input_tensor)\n",
        "output_tensor = tensorFromSentence(output_lang, output_tensor)\n"
      ],
      "execution_count": 0,
      "outputs": []
    },
    {
      "metadata": {
        "id": "RxWUax4eSkvl",
        "colab_type": "code",
        "colab": {}
      },
      "cell_type": "code",
      "source": [
        "encoder = EncoderRNN(input_lang.n_words, hidden_size)\n",
        "if device == torch.device('cuda'):\n",
        "    encoder.cuda()\n",
        "else:\n",
        "    encoder.cpu()"
      ],
      "execution_count": 0,
      "outputs": []
    },
    {
      "metadata": {
        "id": "8Wjh5TSxSkvr",
        "colab_type": "code",
        "colab": {}
      },
      "cell_type": "code",
      "source": [
        "input_length = input_tensor.size(0)\n",
        "output_length = output_tensor.size(0)\n",
        "\n",
        "encoder_outputs = torch.zeros(MAX_SENTENCE_LENGTH, \n",
        "                              encoder.hidden_size, \n",
        "                              device = device)#10x256\n",
        "encoder_hidden = encoder.initHidden()#1x1x256\n",
        "\n",
        "#Encode the sentence one index at a time\n",
        "for ei in range(input_length):\n",
        "    encoder_output, encoder_hidden = encoder(input_tensor[ei], encoder_hidden)\n",
        "    encoder_outputs[ei] = encoder_output[0,0]"
      ],
      "execution_count": 0,
      "outputs": []
    },
    {
      "metadata": {
        "id": "ahPrqXLxSkvw",
        "colab_type": "text"
      },
      "cell_type": "markdown",
      "source": [
        "### 1.2 Decoder with Attention\n",
        "The decoder has already been batchified. Therefore \n",
        "if feeding 1 sentence at a time make sure unsqueeze the batch dimension"
      ]
    },
    {
      "metadata": {
        "id": "Uj2OwtMUSkvy",
        "colab_type": "code",
        "colab": {}
      },
      "cell_type": "code",
      "source": [
        "class AttnDecoderRNN(nn.Module):\n",
        "    def __init__(self, hidden_size, output_size, n_layers = 1, dropout_p = 0.1):\n",
        "        super(AttnDecoderRNN, self).__init__()\n",
        "        self.hidden_size = hidden_size\n",
        "        self.output_size = output_size#vocab size of the output lang\n",
        "        self.n_layers = n_layers\n",
        "        self.dropout_p = dropout_p\n",
        "\n",
        "        self.embedding = nn.Embedding(output_size, hidden_size)\n",
        "        self.dropout = nn.Dropout(dropout_p)\n",
        "        self.attn1 = nn.Linear(hidden_size, hidden_size)\n",
        "        self.attn2 = nn.Linear(hidden_size, hidden_size)\n",
        "        self.v = nn.Parameter(torch.rand(hidden_size))\n",
        "        self.gru = nn.GRU(hidden_size*2, hidden_size, n_layers, dropout = dropout_p)\n",
        "        self.out = nn.Linear(hidden_size, output_size)\n",
        "\n",
        "    def forward(self, word_input, last_hidden, encoder_outputs):\n",
        "        batch_size = encoder_outputs.size(0)\n",
        "        word_embedded = self.embedding(word_input).view(1,1,-1)\n",
        "        word_embedded = self.dropout(word_embedded)\n",
        "\n",
        "        #last hidden = B x 1 x 256\n",
        "        #encoder outputs = B x 10 x 256\n",
        "\n",
        "        #Scoring function\n",
        "        last_hidden_repeated = last_hidden.repeat(1,encoder_outputs.size(1),1)\n",
        "        attn_weights = F.tanh(torch.add(self.attn1(last_hidden_repeated),self.attn2(encoder_outputs)))\n",
        "        v = self.v.unsqueeze(0).repeat(batch_size,1).unsqueeze(1)\n",
        "        beta = v.bmm(attn_weights.transpose(1,2)) #batch x 1 x len\n",
        "        alpha = F.softmax(beta.squeeze(1)).unsqueeze(1)#batch x 1 x len\n",
        "        #End of scoring function\n",
        "        \n",
        "        context = alpha.bmm(encoder_outputs)#1 x 1 x 10 1 x 10 x 256 -> 1x 1 x 256\n",
        "        rnn_input = torch.cat((word_embedded, context),2)#batch x 1 x 2hidden\n",
        "        output, hidden = self.gru(rnn_input, last_hidden)#Hidden layer: layer x Bathc x Hidd\n",
        "\n",
        "        output = output.squeeze(0)\n",
        "        output = F.log_softmax(self.out(output))\n",
        "\n",
        "        return output, hidden, alpha"
      ],
      "execution_count": 0,
      "outputs": []
    },
    {
      "metadata": {
        "id": "WYy5zx5ZSkv3",
        "colab_type": "text"
      },
      "cell_type": "markdown",
      "source": [
        "# For single interations only, encoer_outputs already unsqueezed "
      ]
    },
    {
      "metadata": {
        "id": "H2qBZl5VSkv5",
        "colab_type": "code",
        "colab": {},
        "outputId": "da67951f-8edf-4f57-ee29-9f2467c9c427"
      },
      "cell_type": "code",
      "source": [
        "#encoder_outputs = encoder_outputs.unsqueeze(0)\n",
        "encoder_outputs.size()"
      ],
      "execution_count": 0,
      "outputs": [
        {
          "output_type": "execute_result",
          "data": {
            "text/plain": [
              "torch.Size([1, 10, 256])"
            ]
          },
          "metadata": {
            "tags": []
          },
          "execution_count": 14
        }
      ]
    },
    {
      "metadata": {
        "scrolled": true,
        "id": "lSnh4xs-SkwA",
        "colab_type": "code",
        "colab": {},
        "outputId": "c371b007-c85d-4288-8b56-dbeafae1b285"
      },
      "cell_type": "code",
      "source": [
        "attn_decoder = AttnDecoderRNN(hidden_size, output_lang.n_words)\n",
        "if device == torch.device('cuda'):\n",
        "    attn_decoder.cuda()\n",
        "else:\n",
        "    attn_decoder.cpu()"
      ],
      "execution_count": 0,
      "outputs": [
        {
          "output_type": "stream",
          "text": [
            "/anaconda/envs/py36/lib/python3.6/site-packages/torch/nn/modules/rnn.py:38: UserWarning: dropout option adds dropout after all but last recurrent layer, so non-zero dropout expects num_layers greater than 1, but got dropout=0.1 and num_layers=1\n",
            "  \"num_layers={}\".format(dropout, num_layers))\n"
          ],
          "name": "stderr"
        }
      ]
    },
    {
      "metadata": {
        "id": "euJHWt_rSkwI",
        "colab_type": "code",
        "colab": {}
      },
      "cell_type": "code",
      "source": [
        "decoder_input = torch.tensor([[SOS_token]], device = device)\n",
        "decoder_hidden = encoder_hidden#1x1x256"
      ],
      "execution_count": 0,
      "outputs": []
    },
    {
      "metadata": {
        "id": "VZoj_s0pSkwN",
        "colab_type": "code",
        "colab": {},
        "outputId": "9b04e99f-2e30-41c1-c6e3-bc9c4e177cd4"
      },
      "cell_type": "code",
      "source": [
        "for di in range(output_length):\n",
        "    decoder_output, decoder_hidden, decoder_attntion = attn_decoder(decoder_input, \n",
        "                                                     decoder_hidden, encoder_outputs)\n",
        "    decoder_input = output_tensor[di]"
      ],
      "execution_count": 0,
      "outputs": [
        {
          "output_type": "stream",
          "text": [
            "/anaconda/envs/py36/lib/python3.6/site-packages/torch/nn/functional.py:995: UserWarning: nn.functional.tanh is deprecated. Use torch.tanh instead.\n",
            "  warnings.warn(\"nn.functional.tanh is deprecated. Use torch.tanh instead.\")\n",
            "/anaconda/envs/py36/lib/python3.6/site-packages/ipykernel_launcher.py:30: UserWarning: Implicit dimension choice for softmax has been deprecated. Change the call to include dim=X as an argument.\n",
            "/anaconda/envs/py36/lib/python3.6/site-packages/ipykernel_launcher.py:38: UserWarning: Implicit dimension choice for log_softmax has been deprecated. Change the call to include dim=X as an argument.\n"
          ],
          "name": "stderr"
        }
      ]
    },
    {
      "metadata": {
        "id": "Jv225GF3SkwV",
        "colab_type": "text"
      },
      "cell_type": "markdown",
      "source": [
        "## Note: Encoder outputs remained unchanged -> can be used later for testing\n",
        "## End of the decoder and encoder session\n",
        "code shall not be changed. \n",
        "two sentence has already been encoded and now we\n",
        "aim to generate best translation\n",
        "\n",
        "## During the train, will be the inference state\n",
        "## During training, no beam needed -> only during the evaluations state -> reference: Chow's note\n",
        "two methods: greedy and beam search"
      ]
    },
    {
      "metadata": {
        "id": "abK1EDGTSkwX",
        "colab_type": "text"
      },
      "cell_type": "markdown",
      "source": [
        "# First greedy search: training and evaluations"
      ]
    },
    {
      "metadata": {
        "collapsed": true,
        "id": "NHVjUJxcSkwb",
        "colab_type": "code",
        "colab": {},
        "outputId": "8e790e82-d2ff-42d6-c6e3-b0f3a8ca66e2"
      },
      "cell_type": "code",
      "source": [
        "#Greedy search\n",
        "#DOnt execute these\n",
        "#Training process:\n",
        "teacher_forcing_ratio = 0.6\n",
        "use_teacher_forcing = True if random.random() < teacher_forcing_ratio else False\n",
        "\n",
        "if use_teacher_forcing:\n",
        "    # Teacher forcing: Feed the target as the next input\n",
        "    for di in range(output_length):\n",
        "        decoder_output, decoder_hidden, decoder_attention = decoder(\n",
        "            decoder_input, decoder_hidden, encoder_outputs)\n",
        "        loss += criterion(decoder_output, target_tensor[di])\n",
        "        decoder_input = target_tensor[di]  # Teacher forcing\n",
        "\n",
        "else:\n",
        "    # Without teacher forcing: use its own predictions as the next input\n",
        "    for di in range(output_length):\n",
        "        decoder_output, decoder_hidden, decoder_attention = decoder(\n",
        "            decoder_input, decoder_hidden, encoder_outputs)\n",
        "        #topv is the score, topi is the index of the highest score\n",
        "        topv, topi = decoder_output.topk(1)\n",
        "\n",
        "        decoder_input = topi.squeeze().detach()  # detach from history as input\n",
        "\n",
        "        loss += criterion(decoder_output, target_tensor[di])\n",
        "        if decoder_input.item() == EOS_token:\n",
        "            break"
      ],
      "execution_count": 0,
      "outputs": [
        {
          "output_type": "error",
          "ename": "NameError",
          "evalue": "name 'decoder' is not defined",
          "traceback": [
            "\u001b[0;31m---------------------------------------------------------------------------\u001b[0m",
            "\u001b[0;31mNameError\u001b[0m                                 Traceback (most recent call last)",
            "\u001b[0;32m<ipython-input-77-1053716553c4>\u001b[0m in \u001b[0;36m<module>\u001b[0;34m\u001b[0m\n\u001b[1;32m      8\u001b[0m     \u001b[0;31m# Teacher forcing: Feed the target as the next input\u001b[0m\u001b[0;34m\u001b[0m\u001b[0;34m\u001b[0m\u001b[0m\n\u001b[1;32m      9\u001b[0m     \u001b[0;32mfor\u001b[0m \u001b[0mdi\u001b[0m \u001b[0;32min\u001b[0m \u001b[0mrange\u001b[0m\u001b[0;34m(\u001b[0m\u001b[0moutput_length\u001b[0m\u001b[0;34m)\u001b[0m\u001b[0;34m:\u001b[0m\u001b[0;34m\u001b[0m\u001b[0m\n\u001b[0;32m---> 10\u001b[0;31m         decoder_output, decoder_hidden, decoder_attention = decoder(\n\u001b[0m\u001b[1;32m     11\u001b[0m             decoder_input, decoder_hidden, encoder_outputs)\n\u001b[1;32m     12\u001b[0m         \u001b[0mloss\u001b[0m \u001b[0;34m+=\u001b[0m \u001b[0mcriterion\u001b[0m\u001b[0;34m(\u001b[0m\u001b[0mdecoder_output\u001b[0m\u001b[0;34m,\u001b[0m \u001b[0mtarget_tensor\u001b[0m\u001b[0;34m[\u001b[0m\u001b[0mdi\u001b[0m\u001b[0;34m]\u001b[0m\u001b[0;34m)\u001b[0m\u001b[0;34m\u001b[0m\u001b[0m\n",
            "\u001b[0;31mNameError\u001b[0m: name 'decoder' is not defined"
          ]
        }
      ]
    },
    {
      "metadata": {
        "id": "dAGwnm_uSkwj",
        "colab_type": "code",
        "colab": {}
      },
      "cell_type": "code",
      "source": [
        "#initialize the decoder_hidden here\n",
        "decoder_input = torch.tensor([[SOS_token]], device = device)\n",
        "decoder_hidden = encoder_hidden#1x1x256"
      ],
      "execution_count": 0,
      "outputs": []
    },
    {
      "metadata": {
        "id": "yzwfHFwSSkwo",
        "colab_type": "code",
        "colab": {},
        "outputId": "2ec1b84f-33bb-4c85-aebe-91d12cb36fce"
      },
      "cell_type": "code",
      "source": [
        "#Evaluations:\n",
        "decoded_words = []\n",
        "decoder_attentions = torch.zeros(max_length, max_length)\n",
        "\n",
        "for di in range(max_length):\n",
        "    decoder_output, decoder_hidden, decoder_attention = attn_decoder(decoder_input, decoder_hidden, encoder_outputs)\n",
        "    topv, topi = decoder_output.topk(1)#Take the best one\n",
        "    #teacher forcing or not\n",
        "    #decoder_input = topi.squeeze().detach()\n",
        "    decoder_input = output_tensor[di]#For next round\n",
        "    decoder_attentions[di] = decoder_attention[0,0]\n",
        "    decoded_words.append(output_lang.index2word[topi.item()])#append the best token right now\n",
        "    \n",
        "    if decoder_input.item() == EOS_token:\n",
        "\n",
        "        break;"
      ],
      "execution_count": 0,
      "outputs": [
        {
          "output_type": "stream",
          "text": [
            "/home/yz4499/miniconda3/envs/nlp/lib/python3.6/site-packages/ipykernel_launcher.py:30: UserWarning: Implicit dimension choice for softmax has been deprecated. Change the call to include dim=X as an argument.\n",
            "/home/yz4499/miniconda3/envs/nlp/lib/python3.6/site-packages/ipykernel_launcher.py:38: UserWarning: Implicit dimension choice for log_softmax has been deprecated. Change the call to include dim=X as an argument.\n"
          ],
          "name": "stderr"
        }
      ]
    },
    {
      "metadata": {
        "scrolled": true,
        "id": "73nc7F7LSkwv",
        "colab_type": "code",
        "colab": {},
        "outputId": "6a0f83a7-121b-4240-fca9-e3e7ed0f1f2f"
      },
      "cell_type": "code",
      "source": [
        "decoder_attentions"
      ],
      "execution_count": 0,
      "outputs": [
        {
          "output_type": "execute_result",
          "data": {
            "text/plain": [
              "tensor([[0.5106, 0.1436, 0.0858, 0.0185, 0.0340, 0.0415, 0.0415, 0.0415, 0.0415,\n",
              "         0.0415],\n",
              "        [0.5122, 0.1391, 0.0874, 0.0178, 0.0318, 0.0423, 0.0423, 0.0423, 0.0423,\n",
              "         0.0423],\n",
              "        [0.4883, 0.1467, 0.0946, 0.0178, 0.0328, 0.0440, 0.0440, 0.0440, 0.0440,\n",
              "         0.0440],\n",
              "        [0.4913, 0.1440, 0.0894, 0.0180, 0.0327, 0.0449, 0.0449, 0.0449, 0.0449,\n",
              "         0.0449],\n",
              "        [0.0000, 0.0000, 0.0000, 0.0000, 0.0000, 0.0000, 0.0000, 0.0000, 0.0000,\n",
              "         0.0000],\n",
              "        [0.0000, 0.0000, 0.0000, 0.0000, 0.0000, 0.0000, 0.0000, 0.0000, 0.0000,\n",
              "         0.0000],\n",
              "        [0.0000, 0.0000, 0.0000, 0.0000, 0.0000, 0.0000, 0.0000, 0.0000, 0.0000,\n",
              "         0.0000],\n",
              "        [0.0000, 0.0000, 0.0000, 0.0000, 0.0000, 0.0000, 0.0000, 0.0000, 0.0000,\n",
              "         0.0000],\n",
              "        [0.0000, 0.0000, 0.0000, 0.0000, 0.0000, 0.0000, 0.0000, 0.0000, 0.0000,\n",
              "         0.0000],\n",
              "        [0.0000, 0.0000, 0.0000, 0.0000, 0.0000, 0.0000, 0.0000, 0.0000, 0.0000,\n",
              "         0.0000]], grad_fn=<CopySlices>)"
            ]
          },
          "metadata": {
            "tags": []
          },
          "execution_count": 73
        }
      ]
    },
    {
      "metadata": {
        "id": "sZwsMdOKSkw3",
        "colab_type": "text"
      },
      "cell_type": "markdown",
      "source": [
        "# Second Beam Search: "
      ]
    },
    {
      "metadata": {
        "id": "gZWJ9dwmSkw4",
        "colab_type": "code",
        "colab": {}
      },
      "cell_type": "code",
      "source": [
        "class SearchNode(object):\n",
        "    def __init__(self, word_idx, hidden, curr_score, prev, curr_length):\n",
        "        self.word_idx = word_idx#Tensor        \n",
        "        self.hidden = hidden\n",
        "        self.prev = prev\n",
        "        if self.prev == None:\n",
        "            self.score = curr_score\n",
        "        else:\n",
        "            self.score = self.prev.score + curr_score#The score summed up so far\n",
        "        \n",
        "        self.curr_length = curr_length #the nth node in the sentence\n",
        "        #self.next = None\n",
        "    \n"
      ],
      "execution_count": 0,
      "outputs": []
    },
    {
      "metadata": {
        "id": "7-xDRO4nSkw-",
        "colab_type": "code",
        "colab": {}
      },
      "cell_type": "code",
      "source": [
        "def init_beam(decoder_hidden, encoder_outputs, decoder, beam_width):\n",
        "    decoder_input = torch.tensor([[SOS_token]], device = device)\n",
        "    start_node = SearchNode(decoder_input,decoder_hidden, 0,None,1 )\n",
        "    \n",
        "    decoder_output, decoder_hidden, decoder_attention = decoder(decoder_input, decoder_hidden, encoder_outputs)\n",
        "    curr_nodes = []\n",
        "    scores, indexes = torch.topk(decoder_output, beam_width)##Watch out for dimension, topk on the vocab direction\n",
        "    for i in range(beam_width):\n",
        "        curr_idx = indexes[0][i].view(1,-1)\n",
        "            \n",
        "        curr_score = scores[0][i].item()\n",
        "        curr_node = SearchNode(curr_idx, decoder_hidden, curr_score, start_node, 2)\n",
        "        curr_nodes.append((curr_node, curr_score))\n",
        "        \n",
        "    return curr_nodes, decoder_hidden\n",
        "\n",
        "def beam_search(decoder_hidden,encoder_outputs,decoder,beam_width, k):\n",
        "    '''\n",
        "    beam_width: number of best nodes kept at each iterations\n",
        "    k: number of sentences we want to keep\n",
        "    '''\n",
        "    curr_nodes, decoder_hidden = init_beam(decoder_hidden, encoder_outputs, decoder, beam_width)\n",
        "\n",
        "    end_nodes = []#List including the ending nodes to trace back i.e. the EOS's\n",
        "    #n_needed = min((k+1), k-len(end_nodes))\n",
        "    \n",
        "    while len(end_nodes) < k:\n",
        "        candidate_nodes = []   \n",
        "        for curr_node, curr_score in curr_nodes:\n",
        "            \n",
        "            #First we decide whether to terminate the search or not            \n",
        "            if (curr_node.word_idx == EOS_token):#If already at the end of the sentence, then skip the calculation\n",
        "                end_nodes.append((curr_node, curr_node.score))\n",
        "                if len(end_nodes) >= k: #if already has the desired number of sentences generated\n",
        "                    break;\n",
        "                else:\n",
        "                    continue;\n",
        "                          \n",
        "            #If the inference takes too long, also termiantes\n",
        "            if curr_node.curr_length == 2000: #if too long will force to stop\n",
        "                #Create an EOS dummy node to trace back the entire sentence\n",
        "                \n",
        "                EOS_node = SearchNode(torch.tensor([[EOS_token]], device = device), curr_node.hidden, \n",
        "                                      curr_node.score, curr_node, (curr_node.curr_length)+1)\n",
        "                end_nodes.append((EOS_node, EOS_node.score))\n",
        "                if len(end_nodes) >= k:\n",
        "                    break;\n",
        "                else:\n",
        "                    continue;\n",
        "            \n",
        "            #If not, continue to inference the current time step choices, given the current node\n",
        "            decoder_input = curr_node.word_idx\n",
        "            decoder_hidden = curr_node.hidden\n",
        "            decoder_output, decoder_hidden,decoder_attention = decoder(decoder_input, decoder_hidden, encoder_outputs)\n",
        "            #Pick out k best for the current node\n",
        "            scores, indexes = torch.topk(decoder_output, beam_width)##Watch out for dimension, topk on the vocab direction\n",
        "            for i in range(beam_width):\n",
        "                candidate_idx = indexes[0][i].view(1,-1)\n",
        "                candidate_score = scores[0][i].item()\n",
        "                candidate_node = SearchNode(candidate_idx, decoder_hidden, candidate_score, curr_node, (curr_node.curr_length)+1)\n",
        "\n",
        "                candidate_nodes.append((candidate_node, candidate_node.score))\n",
        "        \n",
        "        #Will now have candidate candidate_nodes with size beam_width * beam_width, only need the top beam_width one.\n",
        "        curr_nodes = sorted(candidate_nodes, key = operator.itemgetter(1))\n",
        "        curr_nodes = curr_nodes[:beam_width]\n",
        "\n",
        "    return end_nodes              "
      ],
      "execution_count": 0,
      "outputs": []
    },
    {
      "metadata": {
        "scrolled": true,
        "id": "VEC9kHCJSkxD",
        "colab_type": "code",
        "colab": {}
      },
      "cell_type": "code",
      "source": [
        "#Translate the sentences.\n",
        "def translate_end_nodes(end_nodes):\n",
        "    sentences = []\n",
        "    end_nodes = sorted(end_nodes, key = operator.itemgetter(1),reverse = True)\n",
        "    for end_node, _ in end_nodes:\n",
        "        sentence = []\n",
        "        while end_node.prev != None:\n",
        "            sentence.append(output_lang.index2word[end_node.word_idx.item()])\n",
        "            end_node = end_node.prev\n",
        "        sentence = sentence[::-1]#Reverse the sentence to get the sentence\n",
        "        sentences.append(sentence)\n",
        "    return sentences"
      ],
      "execution_count": 0,
      "outputs": []
    },
    {
      "metadata": {
        "id": "RNhtm07-SkxI",
        "colab_type": "text"
      },
      "cell_type": "markdown",
      "source": [
        "# beam search test"
      ]
    },
    {
      "metadata": {
        "id": "AcjfFDJRSkxI",
        "colab_type": "code",
        "colab": {}
      },
      "cell_type": "code",
      "source": [
        "#initialize the decoder_hidden here\n",
        "decoder_input = torch.tensor([[SOS_token]], device = device)\n",
        "decoder_hidden = encoder_hidden#1x1x256"
      ],
      "execution_count": 0,
      "outputs": []
    },
    {
      "metadata": {
        "id": "j5IKeW0zSkxN",
        "colab_type": "code",
        "colab": {},
        "outputId": "4e70d5b5-89f0-4db1-f967-17d502e945c6"
      },
      "cell_type": "code",
      "source": [
        "#Test if the batch is unsqueezed; only doing so when batch not implemented and hidden size = 256 max_length = 10\n",
        "list(encoder_outputs.size()) == [1, 10, 256]"
      ],
      "execution_count": 0,
      "outputs": [
        {
          "output_type": "execute_result",
          "data": {
            "text/plain": [
              "True"
            ]
          },
          "metadata": {
            "tags": []
          },
          "execution_count": 91
        }
      ]
    },
    {
      "metadata": {
        "id": "1fW4HnIASkxS",
        "colab_type": "code",
        "colab": {},
        "outputId": "05ecc714-ff04-4ba2-a3d3-96bd636b7240"
      },
      "cell_type": "code",
      "source": [
        "end_nodes = beam_search(decoder_hidden, encoder_outputs, decoder = attn_decoder, beam_width = 10, k = 1)"
      ],
      "execution_count": 0,
      "outputs": [
        {
          "output_type": "stream",
          "text": [
            "/anaconda/envs/py36/lib/python3.6/site-packages/torch/nn/functional.py:995: UserWarning: nn.functional.tanh is deprecated. Use torch.tanh instead.\n",
            "  warnings.warn(\"nn.functional.tanh is deprecated. Use torch.tanh instead.\")\n",
            "/anaconda/envs/py36/lib/python3.6/site-packages/ipykernel_launcher.py:30: UserWarning: Implicit dimension choice for softmax has been deprecated. Change the call to include dim=X as an argument.\n",
            "/anaconda/envs/py36/lib/python3.6/site-packages/ipykernel_launcher.py:38: UserWarning: Implicit dimension choice for log_softmax has been deprecated. Change the call to include dim=X as an argument.\n"
          ],
          "name": "stderr"
        }
      ]
    },
    {
      "metadata": {
        "scrolled": true,
        "id": "OJoD_MlMSkxY",
        "colab_type": "code",
        "colab": {},
        "outputId": "7028a8c2-a422-4ac2-c6d7-50cf750d914c"
      },
      "cell_type": "code",
      "source": [
        "end_nodes"
      ],
      "execution_count": 0,
      "outputs": [
        {
          "output_type": "execute_result",
          "data": {
            "text/plain": [
              "[(<__main__.SearchNode at 0x122323b00>, -10116.319769859314)]"
            ]
          },
          "metadata": {
            "tags": []
          },
          "execution_count": 170
        }
      ]
    },
    {
      "metadata": {
        "collapsed": true,
        "id": "w2oSe-3tSkxe",
        "colab_type": "code",
        "colab": {},
        "outputId": "1eba8a2e-5ff5-4c0e-a0b4-09c4e78cca5e"
      },
      "cell_type": "code",
      "source": [
        "result = translate_end_nodes(end_nodes)\n",
        "print(len(result[0]))\n",
        "result[0][:20]"
      ],
      "execution_count": 0,
      "outputs": [
        {
          "output_type": "stream",
          "text": [
            "1340\n"
          ],
          "name": "stdout"
        },
        {
          "output_type": "execute_result",
          "data": {
            "text/plain": [
              "['immediately',\n",
              " 'television',\n",
              " 'those',\n",
              " 'endowed',\n",
              " 'chances',\n",
              " 'foggy',\n",
              " 'actress',\n",
              " 'grateful',\n",
              " 'discussing',\n",
              " 'eggs',\n",
              " 'about',\n",
              " 'caught',\n",
              " 'look',\n",
              " 'familiar',\n",
              " 'typist',\n",
              " 'nice',\n",
              " 'power',\n",
              " 'cousin',\n",
              " 'choices',\n",
              " 'hook']"
            ]
          },
          "metadata": {
            "tags": []
          },
          "execution_count": 171
        }
      ]
    },
    {
      "metadata": {
        "id": "rjtsLxizSkxl",
        "colab_type": "text"
      },
      "cell_type": "markdown",
      "source": [
        "# End of testing beam search"
      ]
    },
    {
      "metadata": {
        "collapsed": true,
        "id": "WSMFUnYbSkxn",
        "colab_type": "code",
        "colab": {},
        "outputId": "055dfb24-6d27-47f1-ca99-682b0ac86b9a"
      },
      "cell_type": "code",
      "source": [
        "#Evaluations: beam_width = 2\n",
        "end_nodes = beam_search(decoder_hidden, encoder_outputs,decoder = attn_decoder, k=2)\n"
      ],
      "execution_count": 0,
      "outputs": [
        {
          "output_type": "stream",
          "text": [
            "/anaconda/envs/py36/lib/python3.6/site-packages/torch/nn/functional.py:995: UserWarning: nn.functional.tanh is deprecated. Use torch.tanh instead.\n",
            "  warnings.warn(\"nn.functional.tanh is deprecated. Use torch.tanh instead.\")\n",
            "/anaconda/envs/py36/lib/python3.6/site-packages/ipykernel_launcher.py:30: UserWarning: Implicit dimension choice for softmax has been deprecated. Change the call to include dim=X as an argument.\n",
            "/anaconda/envs/py36/lib/python3.6/site-packages/ipykernel_launcher.py:38: UserWarning: Implicit dimension choice for log_softmax has been deprecated. Change the call to include dim=X as an argument.\n"
          ],
          "name": "stderr"
        },
        {
          "output_type": "error",
          "ename": "AttributeError",
          "evalue": "'tuple' object has no attribute 'word_idx'",
          "traceback": [
            "\u001b[0;31m---------------------------------------------------------------------------\u001b[0m",
            "\u001b[0;31mAttributeError\u001b[0m                            Traceback (most recent call last)",
            "\u001b[0;32m<ipython-input-228-4dfb2f503967>\u001b[0m in \u001b[0;36m<module>\u001b[0;34m()\u001b[0m\n\u001b[1;32m      1\u001b[0m \u001b[0;31m#Evaluations: beam_width = 2\u001b[0m\u001b[0;34m\u001b[0m\u001b[0;34m\u001b[0m\u001b[0m\n\u001b[0;32m----> 2\u001b[0;31m \u001b[0mend_nodes\u001b[0m \u001b[0;34m=\u001b[0m \u001b[0mbeam_search\u001b[0m\u001b[0;34m(\u001b[0m\u001b[0mdecoder_hidden\u001b[0m\u001b[0;34m,\u001b[0m \u001b[0mencoder_outputs\u001b[0m\u001b[0;34m,\u001b[0m\u001b[0mdecoder\u001b[0m \u001b[0;34m=\u001b[0m \u001b[0mattn_decoder\u001b[0m\u001b[0;34m,\u001b[0m \u001b[0mk\u001b[0m\u001b[0;34m=\u001b[0m\u001b[0;36m2\u001b[0m\u001b[0;34m)\u001b[0m\u001b[0;34m\u001b[0m\u001b[0m\n\u001b[0m\u001b[1;32m      3\u001b[0m \u001b[0;34m\u001b[0m\u001b[0m\n\u001b[1;32m      4\u001b[0m \u001b[0;34m\u001b[0m\u001b[0m\n\u001b[1;32m      5\u001b[0m \u001b[0;34m\u001b[0m\u001b[0m\n",
            "\u001b[0;32m<ipython-input-223-8745fddc648a>\u001b[0m in \u001b[0;36mbeam_search\u001b[0;34m(decoder_hidden, encoder_outputs, decoder, k)\u001b[0m\n\u001b[1;32m     24\u001b[0m         \u001b[0mnext_nodes\u001b[0m \u001b[0;34m=\u001b[0m \u001b[0;34m[\u001b[0m\u001b[0;34m]\u001b[0m\u001b[0;34m\u001b[0m\u001b[0m\n\u001b[1;32m     25\u001b[0m         \u001b[0;32mfor\u001b[0m \u001b[0mcurr_node\u001b[0m \u001b[0;32min\u001b[0m \u001b[0mcurr_nodes\u001b[0m\u001b[0;34m:\u001b[0m\u001b[0;34m\u001b[0m\u001b[0m\n\u001b[0;32m---> 26\u001b[0;31m             \u001b[0;32mif\u001b[0m \u001b[0mcurr_node\u001b[0m\u001b[0;34m.\u001b[0m\u001b[0mword_idx\u001b[0m \u001b[0;34m==\u001b[0m \u001b[0mEOS_token\u001b[0m\u001b[0;34m:\u001b[0m\u001b[0;31m#If already at the end of the sentence, then skip the calculation\u001b[0m\u001b[0;34m\u001b[0m\u001b[0m\n\u001b[0m\u001b[1;32m     27\u001b[0m                 \u001b[0mend_nodes\u001b[0m\u001b[0;34m.\u001b[0m\u001b[0mappend\u001b[0m\u001b[0;34m(\u001b[0m\u001b[0;34m(\u001b[0m\u001b[0mcurr_node\u001b[0m\u001b[0;34m.\u001b[0m\u001b[0mprev\u001b[0m\u001b[0;34m,\u001b[0m \u001b[0mcurr_node\u001b[0m\u001b[0;34m.\u001b[0m\u001b[0mprev\u001b[0m\u001b[0;34m.\u001b[0m\u001b[0mscore\u001b[0m\u001b[0;34m)\u001b[0m\u001b[0;34m)\u001b[0m\u001b[0;34m\u001b[0m\u001b[0m\n\u001b[1;32m     28\u001b[0m                 \u001b[0;32mif\u001b[0m \u001b[0mlen\u001b[0m\u001b[0;34m(\u001b[0m\u001b[0mend_nodes\u001b[0m\u001b[0;34m)\u001b[0m \u001b[0;34m>=\u001b[0m \u001b[0mk\u001b[0m\u001b[0;34m:\u001b[0m\u001b[0;34m\u001b[0m\u001b[0m\n",
            "\u001b[0;31mAttributeError\u001b[0m: 'tuple' object has no attribute 'word_idx'"
          ]
        }
      ]
    },
    {
      "metadata": {
        "collapsed": true,
        "id": "scBk72klSkx2",
        "colab_type": "text"
      },
      "cell_type": "markdown",
      "source": [
        "Train the lab data, if workable, then implement the mini-batch"
      ]
    },
    {
      "metadata": {
        "collapsed": true,
        "id": "b_--b6wrSkx3",
        "colab_type": "text"
      },
      "cell_type": "markdown",
      "source": [
        "## Train function works#"
      ]
    },
    {
      "metadata": {
        "id": "wEoljqowSkx4",
        "colab_type": "code",
        "colab": {}
      },
      "cell_type": "code",
      "source": [
        "encoder_hidden = encoder1.initHidden()"
      ],
      "execution_count": 0,
      "outputs": []
    },
    {
      "metadata": {
        "id": "hQL73hxaSkx9",
        "colab_type": "code",
        "colab": {}
      },
      "cell_type": "code",
      "source": [
        "input_length = input_tensor.size(0)\n",
        "output_length = output_tensor.size(0)"
      ],
      "execution_count": 0,
      "outputs": []
    },
    {
      "metadata": {
        "id": "J3dBQn-BSkyF",
        "colab_type": "code",
        "colab": {}
      },
      "cell_type": "code",
      "source": [
        "encoder_outputs = torch.zeros(max_length, encoder1.hidden_size, device=device)"
      ],
      "execution_count": 0,
      "outputs": []
    },
    {
      "metadata": {
        "id": "rqyaMNbgSkyI",
        "colab_type": "code",
        "colab": {}
      },
      "cell_type": "code",
      "source": [
        "encoder_output, encoder_hidden = encoder1(input_tensor[0], encoder_hidden)"
      ],
      "execution_count": 0,
      "outputs": []
    },
    {
      "metadata": {
        "id": "z1L8WCnISkyN",
        "colab_type": "code",
        "colab": {}
      },
      "cell_type": "code",
      "source": [
        "for ei in range(input_length):\n",
        "        encoder_output, encoder_hidden = encoder1(\n",
        "            input_tensor[ei], encoder_hidden)\n",
        "        encoder_outputs[ei] = encoder_output[0, 0]"
      ],
      "execution_count": 0,
      "outputs": []
    },
    {
      "metadata": {
        "id": "Rsy237l8SkyZ",
        "colab_type": "text"
      },
      "cell_type": "markdown",
      "source": [
        "## End of train function"
      ]
    },
    {
      "metadata": {
        "id": "E5zGyXCRSkyd",
        "colab_type": "code",
        "colab": {}
      },
      "cell_type": "code",
      "source": [
        "teacher_forcing_ratio = 0.5\n",
        "MAX_LENGTH = 10\n",
        "def train(input_tensor, target_tensor, encoder, decoder, encoder_optimizer, decoder_optimizer, criterion, max_length=MAX_LENGTH):\n",
        "    encoder_hidden = encoder.initHidden()\n",
        "\n",
        "    encoder_optimizer.zero_grad()\n",
        "    decoder_optimizer.zero_grad()\n",
        "\n",
        "    input_length = input_tensor.size(0)\n",
        "    target_length = target_tensor.size(0)\n",
        "\n",
        "    encoder_outputs = torch.zeros(max_length, encoder.hidden_size, device=device)\n",
        "    \n",
        "    loss = 0\n",
        "\n",
        "    for ei in range(input_length):\n",
        "        encoder_output, encoder_hidden = encoder(\n",
        "            input_tensor[ei], encoder_hidden)\n",
        "        encoder_outputs[ei] = encoder_output[0, 0]\n",
        "        \n",
        "    #Added specifically for this test\n",
        "    encoder_outputs = encoder_outputs.unsqueeze(0)\n",
        "    #Will be deleted\n",
        "    \n",
        "    decoder_input = torch.tensor([[SOS_token]], device=device)\n",
        "\n",
        "    decoder_hidden = encoder_hidden\n",
        "\n",
        "    use_teacher_forcing = True if random.random() < teacher_forcing_ratio else False\n",
        "\n",
        "    if use_teacher_forcing:\n",
        "        # Teacher forcing: Feed the target as the next input\n",
        "        for di in range(target_length):\n",
        "            decoder_output, decoder_hidden, decoder_attention = decoder(\n",
        "                decoder_input, decoder_hidden, encoder_outputs)\n",
        "            loss += criterion(decoder_output, target_tensor[di])\n",
        "            decoder_input = target_tensor[di]  # Teacher forcing\n",
        "\n",
        "    else:\n",
        "        # Without teacher forcing: use its own predictions as the next input\n",
        "        for di in range(target_length):\n",
        "            decoder_output, decoder_hidden, decoder_attention = decoder(\n",
        "                decoder_input, decoder_hidden, encoder_outputs)\n",
        "            topv, topi = decoder_output.topk(1)\n",
        "            decoder_input = topi.squeeze().detach()  # detach from history as input\n",
        "\n",
        "            loss += criterion(decoder_output, target_tensor[di])\n",
        "            if decoder_input.item() == EOS_token:\n",
        "                break\n",
        "\n",
        "    loss.backward()\n",
        "\n",
        "    encoder_optimizer.step()\n",
        "    decoder_optimizer.step()\n",
        "\n",
        "    return loss.item() / target_length"
      ],
      "execution_count": 0,
      "outputs": []
    },
    {
      "metadata": {
        "id": "Okuo-cDgSkym",
        "colab_type": "code",
        "colab": {}
      },
      "cell_type": "code",
      "source": [
        "def trainIters(encoder, decoder, n_iters, print_every=1000, plot_every=100, learning_rate=0.01):\n",
        "    start = time.time()\n",
        "    plot_losses = []\n",
        "    print_loss_total = 0  # Reset every print_every\n",
        "    plot_loss_total = 0  # Reset every plot_every\n",
        "\n",
        "    encoder_optimizer = optim.SGD(encoder.parameters(), lr=learning_rate)\n",
        "    decoder_optimizer = optim.SGD(decoder.parameters(), lr=learning_rate)\n",
        "    training_pairs = [tensorsFromPair(random.choice(pairs))\n",
        "                      for i in range(n_iters)]\n",
        "    criterion = nn.NLLLoss()\n",
        "\n",
        "    for iter in range(1, n_iters + 1):\n",
        "        training_pair = training_pairs[iter - 1]\n",
        "        input_tensor = training_pair[0]\n",
        "        target_tensor = training_pair[1]\n",
        "\n",
        "        loss = train(input_tensor, target_tensor, encoder,\n",
        "                     decoder, encoder_optimizer, decoder_optimizer, criterion)\n",
        "        print_loss_total += loss\n",
        "        plot_loss_total += loss\n",
        "\n",
        "        if iter % print_every == 0:\n",
        "            print_loss_avg = print_loss_total / print_every\n",
        "            print_loss_total = 0\n",
        "            print('%s (%d %d%%) %.4f' % (timeSince(start, iter / n_iters),\n",
        "                                         iter, iter / n_iters * 100, print_loss_avg))\n",
        "\n",
        "        if iter % plot_every == 0:\n",
        "            plot_loss_avg = plot_loss_total / plot_every\n",
        "            plot_losses.append(plot_loss_avg)\n",
        "            plot_loss_total = 0\n",
        "\n",
        "    showPlot(plot_losses)"
      ],
      "execution_count": 0,
      "outputs": []
    },
    {
      "metadata": {
        "id": "ZJx5RwI2Skyt",
        "colab_type": "code",
        "colab": {}
      },
      "cell_type": "code",
      "source": [
        "import matplotlib.pyplot as plt\n",
        "plt.switch_backend('agg')\n",
        "import matplotlib.ticker as ticker\n",
        "import numpy as np\n",
        "%matplotlib inline\n",
        "\n",
        "def showPlot(points):\n",
        "    plt.figure()\n",
        "    fig, ax = plt.subplots()\n",
        "    # this locator puts ticks at regular intervals\n",
        "    loc = ticker.MultipleLocator(base=0.2)\n",
        "    ax.yaxis.set_major_locator(loc)\n",
        "    plt.plot(points)"
      ],
      "execution_count": 0,
      "outputs": []
    },
    {
      "metadata": {
        "id": "w99CrHUySkyz",
        "colab_type": "code",
        "colab": {
          "base_uri": "https://localhost:8080/",
          "height": 71
        },
        "outputId": "1f0cbfc8-c044-42e3-dcab-5f973bcc0bfa"
      },
      "cell_type": "code",
      "source": [
        "hidden_size = 256\n",
        "encoder1 = EncoderRNN(input_lang.n_words, hidden_size).to(device)\n",
        "attn_decoder1 = AttnDecoderRNN(hidden_size, output_lang.n_words, n_layers=1, dropout_p=0.1).to(device)\n"
      ],
      "execution_count": 15,
      "outputs": [
        {
          "output_type": "stream",
          "text": [
            "/usr/local/lib/python3.6/dist-packages/torch/nn/modules/rnn.py:38: UserWarning: dropout option adds dropout after all but last recurrent layer, so non-zero dropout expects num_layers greater than 1, but got dropout=0.1 and num_layers=1\n",
            "  \"num_layers={}\".format(dropout, num_layers))\n"
          ],
          "name": "stderr"
        }
      ]
    },
    {
      "metadata": {
        "scrolled": true,
        "id": "g4WoF3vdSky4",
        "colab_type": "code",
        "colab": {
          "base_uri": "https://localhost:8080/",
          "height": 629
        },
        "outputId": "e2d84b73-ab35-4c5d-f131-6e2dca0af39d"
      },
      "cell_type": "code",
      "source": [
        "trainIters(encoder1, attn_decoder1, 75000, print_every=5000)"
      ],
      "execution_count": 16,
      "outputs": [
        {
          "output_type": "stream",
          "text": [
            "/usr/local/lib/python3.6/dist-packages/torch/nn/functional.py:995: UserWarning: nn.functional.tanh is deprecated. Use torch.tanh instead.\n",
            "  warnings.warn(\"nn.functional.tanh is deprecated. Use torch.tanh instead.\")\n",
            "/usr/local/lib/python3.6/dist-packages/ipykernel_launcher.py:30: UserWarning: Implicit dimension choice for softmax has been deprecated. Change the call to include dim=X as an argument.\n",
            "/usr/local/lib/python3.6/dist-packages/ipykernel_launcher.py:38: UserWarning: Implicit dimension choice for log_softmax has been deprecated. Change the call to include dim=X as an argument.\n"
          ],
          "name": "stderr"
        },
        {
          "output_type": "stream",
          "text": [
            "4m 50s (- 67m 45s) (5000 6%) 2.8977\n",
            "9m 38s (- 62m 41s) (10000 13%) 2.2920\n",
            "14m 26s (- 57m 44s) (15000 20%) 1.9737\n",
            "19m 17s (- 53m 3s) (20000 26%) 1.7344\n",
            "24m 9s (- 48m 18s) (25000 33%) 1.5166\n",
            "29m 1s (- 43m 31s) (30000 40%) 1.3491\n",
            "33m 52s (- 38m 42s) (35000 46%) 1.2389\n",
            "38m 46s (- 33m 55s) (40000 53%) 1.0919\n",
            "43m 39s (- 29m 6s) (45000 60%) 0.9597\n",
            "48m 33s (- 24m 16s) (50000 66%) 0.8673\n",
            "53m 29s (- 19m 27s) (55000 73%) 0.7623\n",
            "58m 23s (- 14m 35s) (60000 80%) 0.7051\n",
            "63m 17s (- 9m 44s) (65000 86%) 0.6131\n",
            "68m 11s (- 4m 52s) (70000 93%) 0.5485\n",
            "73m 5s (- 0m 0s) (75000 100%) 0.5004\n"
          ],
          "name": "stdout"
        },
        {
          "output_type": "display_data",
          "data": {
            "text/plain": [
              "<matplotlib.figure.Figure at 0x7fbb62590710>"
            ]
          },
          "metadata": {
            "tags": []
          }
        },
        {
          "output_type": "display_data",
          "data": {
            "image/png": "[encoded data removed]",
            "text/plain": [
              "<matplotlib.figure.Figure at 0x7fbb62590278>"
            ]
          },
          "metadata": {
            "tags": []
          }
        }
      ]
    },
    {
      "metadata": {
        "id": "fsh2OmCzSky9",
        "colab_type": "code",
        "colab": {}
      },
      "cell_type": "code",
      "source": [
        "training_pairs = [tensorsFromPair(random.choice(pairs))\n",
        "                      for i in range(75000)]"
      ],
      "execution_count": 0,
      "outputs": []
    },
    {
      "metadata": {
        "id": "Uj1HSP79SkzB",
        "colab_type": "code",
        "colab": {}
      },
      "cell_type": "code",
      "source": [
        "encoder_optimizer = optim.SGD(encoder1.parameters(), lr=0.01)\n",
        "decoder_optimizer = optim.SGD(attn_decoder1.parameters(), lr=0.01)"
      ],
      "execution_count": 0,
      "outputs": []
    },
    {
      "metadata": {
        "id": "RFlMcSwESkzE",
        "colab_type": "code",
        "colab": {}
      },
      "cell_type": "code",
      "source": [
        "criterion = nn.NLLLoss()\n"
      ],
      "execution_count": 0,
      "outputs": []
    },
    {
      "metadata": {
        "id": "uJLfEHepSkzI",
        "colab_type": "code",
        "colab": {},
        "outputId": "48fccbd6-b325-47f2-b44b-d875d873c9c6"
      },
      "cell_type": "code",
      "source": [
        "loss = train(input_tensor, output_tensor, encoder1,\n",
        "                     attn_decoder1, encoder_optimizer, decoder_optimizer, criterion)"
      ],
      "execution_count": 0,
      "outputs": [
        {
          "output_type": "stream",
          "text": [
            "/anaconda/envs/py36/lib/python3.6/site-packages/torch/nn/functional.py:995: UserWarning: nn.functional.tanh is deprecated. Use torch.tanh instead.\n",
            "  warnings.warn(\"nn.functional.tanh is deprecated. Use torch.tanh instead.\")\n",
            "/anaconda/envs/py36/lib/python3.6/site-packages/ipykernel_launcher.py:30: UserWarning: Implicit dimension choice for softmax has been deprecated. Change the call to include dim=X as an argument.\n",
            "/anaconda/envs/py36/lib/python3.6/site-packages/ipykernel_launcher.py:38: UserWarning: Implicit dimension choice for log_softmax has been deprecated. Change the call to include dim=X as an argument.\n"
          ],
          "name": "stderr"
        }
      ]
    },
    {
      "metadata": {
        "id": "5UT77nmcSkzY",
        "colab_type": "code",
        "colab": {}
      },
      "cell_type": "code",
      "source": [
        ""
      ],
      "execution_count": 0,
      "outputs": []
    }
  ]
}